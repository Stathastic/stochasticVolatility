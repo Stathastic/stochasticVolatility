{
 "cells": [
  {
   "cell_type": "code",
   "execution_count": null,
   "metadata": {
    "vscode": {
     "languageId": "r"
    }
   },
   "outputs": [],
   "source": [
    "library(INLA) ##\n",
    "library(MASS)\n",
    "library(rSPDE)\n",
    "library(readr)"
   ]
  },
  {
   "cell_type": "markdown",
   "metadata": {},
   "source": [
    "## generate mesh "
   ]
  },
  {
   "cell_type": "code",
   "execution_count": null,
   "metadata": {
    "vscode": {
     "languageId": "r"
    }
   },
   "outputs": [],
   "source": [
    "data <- as.data.frame(read_csv(\"1180.SR.csv\"))\n",
    "logpt<-log(data$Close)#\n",
    "logreturn <-logpt[2:length(logpt)]-logpt[1:(length(logpt)-1)]\n",
    "date <- data$Date[1:(length(data$Date)-1)]\n",
    "dates<-as.integer(format(as.Date(date),\"%Y%M%d\"))\n"
   ]
  },
  {
   "cell_type": "markdown",
   "metadata": {},
   "source": [
    "## implement the model& fit model "
   ]
  },
  {
   "cell_type": "code",
   "execution_count": null,
   "metadata": {
    "vscode": {
     "languageId": "r"
    }
   },
   "outputs": [],
   "source": [
    "mesh_loc <- inla.mesh.1d(dates) # \n",
    "\n",
    "Abar <- rspde.make.A(mesh = mesh_loc, loc = dates)\n",
    "\n",
    "rspde_model <- rspde.matern(mesh = mesh_loc,rspde.order=1)\n",
    "mesh.index <- rspde.make.index(name = \"field\", mesh = mesh_loc)\n",
    "data = list(logreturn = logreturn, times = dates)#, field = mesh.index)\n",
    "f.s <- logreturn ~   f(field, model = rspde_model) \n",
    "rspde_fit <- inla(f.s, family = \"Gamma\", data = data, \n",
    "        control.inla=list(int.strategy='eb'))"
   ]
  },
  {
   "cell_type": "markdown",
   "metadata": {},
   "source": [
    "## Or try this, code from the inla paper"
   ]
  },
  {
   "cell_type": "code",
   "execution_count": 9,
   "metadata": {
    "vscode": {
     "languageId": "r"
    }
   },
   "outputs": [
    {
     "data": {
      "text/plain": [
       "Time used:\n",
       "    Pre = 0.19, Running = 1.45, Post = 0.0173, Total = 1.65 \n",
       "Fixed effects:\n",
       "              mean    sd 0.025quant 0.5quant 0.975quant   mode kld\n",
       "(Intercept) -8.324 0.075     -8.469   -8.326      -8.17 -8.326   0\n",
       "\n",
       "Random effects:\n",
       "  Name\t  Model\n",
       "    times AR1 model\n",
       "\n",
       "Model hyperparameters:\n",
       "                                     mean    sd 0.025quant 0.5quant 0.975quant\n",
       "skewness parameter for stochvol-nig 0.057 0.034     -0.009    0.057      0.124\n",
       "shape parameter for stochvol-nig    1.015 0.016      1.002    1.010      1.056\n",
       "Precision for times                 5.859 1.883      3.070    5.559     10.400\n",
       "Rho for times                       0.698 0.117      0.430    0.713      0.881\n",
       "                                     mode\n",
       "skewness parameter for stochvol-nig 0.057\n",
       "shape parameter for stochvol-nig    1.004\n",
       "Precision for times                 4.995\n",
       "Rho for times                       0.744\n",
       "\n",
       "Marginal log-Likelihood:  6545.25 \n",
       " is computed \n",
       "Posterior summaries for the linear predictor and the fitted values are computed\n",
       "(Posterior marginals needs also 'control.compute=list(return.marginals.predictor=TRUE)')\n"
      ]
     },
     "metadata": {},
     "output_type": "display_data"
    }
   ],
   "source": [
    "formula<-logreturn~f(times,model=\"ar1\")\n",
    "result=inla(formula,family=\"stochvol.nig\",data=data)   \n",
    "summary(result)"
   ]
  },
  {
   "cell_type": "code",
   "execution_count": null,
   "metadata": {
    "vscode": {
     "languageId": "r"
    }
   },
   "outputs": [],
   "source": []
  }
 ],
 "metadata": {
  "kernelspec": {
   "display_name": "R",
   "language": "R",
   "name": "ir"
  },
  "language_info": {
   "codemirror_mode": "r",
   "file_extension": ".r",
   "mimetype": "text/x-r-source",
   "name": "R",
   "pygments_lexer": "r",
   "version": "4.2.1"
  }
 },
 "nbformat": 4,
 "nbformat_minor": 2
}
