{
 "cells": [
  {
   "cell_type": "code",
   "execution_count": 2,
   "metadata": {
    "vscode": {
     "languageId": "r"
    }
   },
   "outputs": [
    {
     "name": "stderr",
     "output_type": "stream",
     "text": [
      "Loading required package: Matrix\n",
      "\n",
      "Loading required package: sp\n",
      "\n",
      "This is INLA_24.04.01 built 2024-04-01 19:43:22 UTC.\n",
      " - See www.r-inla.org/contact-us for how to get help.\n",
      " - List available models/likelihoods/etc with inla.list.models()\n",
      " - Use inla.doc(<NAME>) to access documentation\n",
      "\n"
     ]
    }
   ],
   "source": [
    "library(INLA) ##\n",
    "library(MASS)\n",
    "library(rSPDE)\n",
    "library(readr)"
   ]
  },
  {
   "cell_type": "code",
   "execution_count": 4,
   "metadata": {
    "vscode": {
     "languageId": "r"
    }
   },
   "outputs": [
    {
     "name": "stderr",
     "output_type": "stream",
     "text": [
      "Downloading GitHub repo davidbolin/rspde@devel\n",
      "\n"
     ]
    },
    {
     "name": "stdout",
     "output_type": "stream",
     "text": [
      "utf8      (1.2.3  -> 1.2.4 ) [CRAN]\n",
      "withr     (2.5.0  -> 3.0.0 ) [CRAN]\n",
      "fansi     (1.0.4  -> 1.0.6 ) [CRAN]\n",
      "stringi   (1.7.12 -> 1.8.3 ) [CRAN]\n",
      "cpp11     (0.4.6  -> 0.4.7 ) [CRAN]\n",
      "vctrs     (0.6.4  -> 0.6.5 ) [CRAN]\n",
      "stringr   (1.5.0  -> 1.5.1 ) [CRAN]\n",
      "rlang     (1.1.1  -> 1.1.3 ) [CRAN]\n",
      "lifecycle (1.0.3  -> 1.0.4 ) [CRAN]\n",
      "cli       (3.6.1  -> 3.6.2 ) [CRAN]\n",
      "Rcpp      (1.0.11 -> 1.0.12) [CRAN]\n",
      "DBI       (1.1.3  -> 1.2.2 ) [CRAN]\n"
     ]
    },
    {
     "name": "stderr",
     "output_type": "stream",
     "text": [
      "Installing 12 packages: utf8, withr, fansi, stringi, cpp11, vctrs, stringr, rlang, lifecycle, cli, Rcpp, DBI\n",
      "\n",
      "Installing packages into ‘/home/jianj0c/R/x86_64-pc-linux-gnu-library/4.3’\n",
      "(as ‘lib’ is unspecified)\n",
      "\n"
     ]
    },
    {
     "name": "stdout",
     "output_type": "stream",
     "text": [
      "\u001b[36m──\u001b[39m \u001b[36mR CMD build\u001b[39m \u001b[36m─────────────────────────────────────────────────────────────────\u001b[39m\n",
      "* checking for file ‘/tmp/RtmpwiXz7d/remotes1bd762d6fe7c1/davidbolin-rSPDE-df01828/DESCRIPTION’ ... OK\n",
      "* preparing ‘rSPDE’:\n",
      "* checking DESCRIPTION meta-information ... OK\n",
      "* checking for LF line-endings in source and make files and shell scripts\n",
      "* checking for empty or unneeded directories\n",
      "* looking to see if a ‘data/datalist’ file should be added\n",
      "* building ‘rSPDE_2.3.3.9000.tar.gz’\n",
      "\n"
     ]
    },
    {
     "name": "stderr",
     "output_type": "stream",
     "text": [
      "Installing package into ‘/home/jianj0c/R/x86_64-pc-linux-gnu-library/4.3’\n",
      "(as ‘lib’ is unspecified)\n",
      "\n"
     ]
    }
   ],
   "source": [
    "remotes::install_github(\"davidbolin/rspde\", ref = \"devel\")"
   ]
  },
  {
   "cell_type": "markdown",
   "metadata": {},
   "source": [
    "## generate mesh "
   ]
  },
  {
   "cell_type": "code",
   "execution_count": null,
   "metadata": {
    "vscode": {
     "languageId": "r"
    }
   },
   "outputs": [],
   "source": [
    "data <- as.data.frame(read_csv(\"1180.SR.csv\"))\n",
    "logpt<-log(data$Close)#\n",
    "logreturn <-logpt[2:length(logpt)]-logpt[1:(length(logpt)-1)]\n",
    "date <- data$Date[1:(length(data$Date)-1)]\n",
    "dates<-as.integer(format(as.Date(date),\"%Y%M%d\"))\n"
   ]
  },
  {
   "cell_type": "markdown",
   "metadata": {},
   "source": [
    "## implement the model& fit model "
   ]
  },
  {
   "cell_type": "code",
   "execution_count": null,
   "metadata": {
    "vscode": {
     "languageId": "r"
    }
   },
   "outputs": [],
   "source": [
    "mesh_loc <- inla.mesh.1d(dates) # \n",
    "\n",
    "Abar <- rspde.make.A(mesh = mesh_loc, loc = dates)\n",
    "\n",
    "rspde_model <- rspde.matern(mesh = mesh_loc,rspde.order=1)\n",
    "mesh.index <- rspde.make.index(name = \"field\", mesh = mesh_loc)\n",
    "data = list(logreturn = logreturn, times = dates)#, field = mesh.index)\n",
    "f.s <- logreturn ~   f(field, model = rspde_model) \n",
    "rspde_fit <- inla(f.s, family = \"Gamma\", data = data, \n",
    "        control.inla=list(int.strategy='eb'))"
   ]
  },
  {
   "cell_type": "markdown",
   "metadata": {},
   "source": [
    "## Or try this, code from the inla paper"
   ]
  },
  {
   "cell_type": "code",
   "execution_count": 9,
   "metadata": {
    "vscode": {
     "languageId": "r"
    }
   },
   "outputs": [
    {
     "data": {
      "text/plain": [
       "Time used:\n",
       "    Pre = 0.19, Running = 1.45, Post = 0.0173, Total = 1.65 \n",
       "Fixed effects:\n",
       "              mean    sd 0.025quant 0.5quant 0.975quant   mode kld\n",
       "(Intercept) -8.324 0.075     -8.469   -8.326      -8.17 -8.326   0\n",
       "\n",
       "Random effects:\n",
       "  Name\t  Model\n",
       "    times AR1 model\n",
       "\n",
       "Model hyperparameters:\n",
       "                                     mean    sd 0.025quant 0.5quant 0.975quant\n",
       "skewness parameter for stochvol-nig 0.057 0.034     -0.009    0.057      0.124\n",
       "shape parameter for stochvol-nig    1.015 0.016      1.002    1.010      1.056\n",
       "Precision for times                 5.859 1.883      3.070    5.559     10.400\n",
       "Rho for times                       0.698 0.117      0.430    0.713      0.881\n",
       "                                     mode\n",
       "skewness parameter for stochvol-nig 0.057\n",
       "shape parameter for stochvol-nig    1.004\n",
       "Precision for times                 4.995\n",
       "Rho for times                       0.744\n",
       "\n",
       "Marginal log-Likelihood:  6545.25 \n",
       " is computed \n",
       "Posterior summaries for the linear predictor and the fitted values are computed\n",
       "(Posterior marginals needs also 'control.compute=list(return.marginals.predictor=TRUE)')\n"
      ]
     },
     "metadata": {},
     "output_type": "display_data"
    }
   ],
   "source": [
    "formula<-logreturn~f(times,model=\"ar1\")\n",
    "result=inla(formula,family=\"stochvol.nig\",data=data)   \n",
    "summary(result)"
   ]
  },
  {
   "cell_type": "code",
   "execution_count": null,
   "metadata": {
    "vscode": {
     "languageId": "r"
    }
   },
   "outputs": [],
   "source": []
  }
 ],
 "metadata": {
  "kernelspec": {
   "display_name": "R",
   "language": "R",
   "name": "ir"
  },
  "language_info": {
   "codemirror_mode": "r",
   "file_extension": ".r",
   "mimetype": "text/x-r-source",
   "name": "R",
   "pygments_lexer": "r",
   "version": "4.3.3"
  }
 },
 "nbformat": 4,
 "nbformat_minor": 2
}
