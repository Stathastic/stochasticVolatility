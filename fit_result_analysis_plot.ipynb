{
 "cells": [
  {
   "cell_type": "code",
   "execution_count": 24,
   "metadata": {},
   "outputs": [],
   "source": [
    "from helper import *\n",
    "import pandas as pd\n",
    "import rpy2.robjects as ro\n",
    "from rpy2.robjects import pandas2ri,numpy2ri\n",
    "from rpy2.robjects.conversion import localconverter\n",
    "pandas2ri.activate()\n",
    "import pandas as pd\n",
    "import os \n",
    "import pickle\n",
    "import numpy as np"
   ]
  },
  {
   "cell_type": "code",
   "execution_count": 25,
   "metadata": {},
   "outputs": [],
   "source": [
    "ro.r(\"\"\"source('helper.R')\"\"\")"
   ]
  },
  {
   "cell_type": "code",
   "execution_count": 26,
   "metadata": {},
   "outputs": [],
   "source": [
    "\n",
    "\n",
    "max_id=get_max(\"Log\")\n",
    "logger_path=os.path.join(\"Log\",f\"{max_id}.plot\")\n",
    "\n",
    "exp_id=31\n",
    "path=f\"/home/jianj0c/project/STP/notebook_SPDE/stochasticVolatility/Log/{exp_id}.fitting/fits\"\n",
    "results = []\n",
    "for file in os.listdir(path):\n",
    "     fit_path=os.path.join(path,file)\n",
    "     ro.r(f\"\"\"\n",
    "\n",
    "          xx<-readRDS(\"{fit_path}\")\n",
    "          result<-parse_result(xx$fit,xx$family)\n",
    "          \"\"\")\n",
    "     df=ro.r(\"result$df\")\n",
    "     likelihood=ro.r(\"unlist(result$like)\")\n",
    "     family={\"model\":ro.r(\"xx$family$model\")[0],\n",
    "             \"Y\":ro.r(\"xx$family$Y\")[0]}\n",
    "     startValue={\"prior.std.dev.nominal\":ro.r(\"xx$start_value$prior.std.dev.nominal\")[0],\n",
    "                    \"prior.range.nominal\":ro.r(\"xx$start_value$prior.range.nominal\")[0],\n",
    "                    \"rspde.order\":ro.r(\"xx$start_value$rspde.order\")[0]}\n",
    "     \n",
    "     results.append({\"df\":ro.conversion.rpy2py(df),\n",
    "                     \"likelihood\":likelihood,\n",
    "                     \"family\":family,\n",
    "                     \"startValue\":startValue,\n",
    "                     \"id\":file.split(\"_\")[1][:-4]})"
   ]
  },
  {
   "cell_type": "code",
   "execution_count": 27,
   "metadata": {},
   "outputs": [],
   "source": [
    "models=dict()\n",
    "for result in results:\n",
    "    key=f\"{result['family']['model']}_{result['family']['Y']}\"\n",
    "    if key not in models:\n",
    "        models[key]=list()\n",
    "    models[key].append(result)"
   ]
  },
  {
   "cell_type": "markdown",
   "metadata": {},
   "source": [
    "save the parsed result"
   ]
  },
  {
   "cell_type": "code",
   "execution_count": 28,
   "metadata": {},
   "outputs": [],
   "source": [
    "\n",
    "pickle.dump(models,open(f\"/home/jianj0c/project/STP/notebook_SPDE/stochasticVolatility/Log/{exp_id}.fitting/models.pkl\",\"wb\"))"
   ]
  },
  {
   "cell_type": "code",
   "execution_count": 29,
   "metadata": {},
   "outputs": [],
   "source": [
    "models=pickle.load(open(f\"/home/jianj0c/project/STP/notebook_SPDE/stochasticVolatility/Log/{exp_id}.fitting/models.pkl\",\"rb\"))"
   ]
  },
  {
   "cell_type": "code",
   "execution_count": 30,
   "metadata": {},
   "outputs": [
    {
     "data": {
      "text/plain": [
       "dict_keys(['rough_stochvolln', 'rough_stochvol.t', 'rough_stochvol', 'rough_stochvol.nig', 'rs_stochvol'])"
      ]
     },
     "execution_count": 30,
     "metadata": {},
     "output_type": "execute_result"
    }
   ],
   "source": [
    "models.keys()"
   ]
  },
  {
   "cell_type": "code",
   "execution_count": 10,
   "metadata": {},
   "outputs": [
    {
     "name": "stdout",
     "output_type": "stream",
     "text": [
      "\\begin{tabular}{lr}\n",
      " & 1 \\\\\n",
      "(0,115,3) & 3642.93 \\\\\n",
      "(0,14,3) & 3642.43 \\\\\n",
      "(0,161,4) & 3643.07 \\\\\n",
      "(0,196,4) & 3642.46 \\\\\n",
      "(0,2,3) & 3642.24 \\\\\n",
      "(0,245,4) & 3627.98 \\\\\n",
      "(0,250,3) & 3643.22 \\\\\n",
      "(1,100,6) & 3641.57 \\\\\n",
      "(1,119,5) & 3628.70 \\\\\n",
      "(1,158,5) & 3642.72 \\\\\n",
      "(1,175,4) & 3642.78 \\\\\n",
      "(1,185,5) & 3642.95 \\\\\n",
      "(1,189,2) & 3643.33 \\\\\n",
      "(1,200,4) & 3642.38 \\\\\n",
      "(1,215,6) & 3642.23 \\\\\n",
      "(1,217,3) & 3628.60 \\\\\n",
      "(1,242,6) & 3641.63 \\\\\n",
      "(1,243,3) & 3642.28 \\\\\n",
      "(1,244,4) & 3643.21 \\\\\n",
      "(1,252,3) & 3642.33 \\\\\n",
      "(1,263,6) & 3641.71 \\\\\n",
      "(1,269,6) & 3628.15 \\\\\n",
      "(1,273,5) & 3642.64 \\\\\n",
      "(1,273,6) & 3642.46 \\\\\n",
      "(1,275,5) & 3642.35 \\\\\n",
      "(1,280,2) & 3643.25 \\\\\n",
      "(1,285,2) & 3643.54 \\\\\n",
      "(1,285,3) & 3643.27 \\\\\n",
      "(1,43,3) & 3643.51 \\\\\n",
      "(1,87,4) & 3642.71 \\\\\n",
      "\\end{tabular}\n",
      "\n"
     ]
    }
   ],
   "source": [
    "start_values_likelihood={}\n",
    "model_key=\"rough_stochvol\"\n",
    "models[model_key]=sorted(models[model_key],key=lambda x: f\"\"\"({x[\"startValue\"][\"prior.std.dev.nominal\"]:.0f},{x[\"startValue\"][\"prior.range.nominal\"]:.0f},{x[\"startValue\"][\"rspde.order\"]:.0f})\"\"\")\n",
    "for fit in models[model_key]:\n",
    "    \n",
    "    statValue=fit[\"startValue\"]\n",
    "    key=f\"\"\"({statValue[\"prior.std.dev.nominal\"]:.0f},{statValue[\"prior.range.nominal\"]:.0f},{statValue[\"rspde.order\"]:.0f})\"\"\"\n",
    "    start_values_likelihood[key]=fit[\"likelihood\"]\n",
    "    \n",
    "df=pd.DataFrame(start_values_likelihood)\n",
    "df.index=df.index+1\n",
    "df=df.T\n",
    "df = df.style.format(decimal='.', precision=2)\n",
    "print(df.to_latex())"
   ]
  },
  {
   "cell_type": "code",
   "execution_count": 11,
   "metadata": {},
   "outputs": [
    {
     "data": {
      "text/plain": [
       "dict_keys(['rough_stochvolln', 'rough_stochvol.t', 'rough_stochvol', 'rough_stochvol.nig', 'rs_stochvol'])"
      ]
     },
     "execution_count": 11,
     "metadata": {},
     "output_type": "execute_result"
    }
   ],
   "source": [
    "models.keys()"
   ]
  },
  {
   "cell_type": "code",
   "execution_count": 50,
   "metadata": {},
   "outputs": [
    {
     "name": "stdout",
     "output_type": "stream",
     "text": [
      "config id 121\n",
      "run id 0\n"
     ]
    }
   ],
   "source": [
    "model_key=\"rs_stochvol\"\n",
    "max_id_=np.argmax([max(x[\"likelihood\"]) for x in models[model_key] ])\n",
    "print(\"config id\",models[model_key][max_id_][\"id\"])\n",
    "print(\"run id\",np.argmax(models[model_key][max_id_][\"likelihood\"]))"
   ]
  },
  {
   "cell_type": "code",
   "execution_count": 26,
   "metadata": {},
   "outputs": [
    {
     "data": {
      "text/plain": [
       "dict_keys(['df', 'likelihood', 'family', 'startValue', 'id'])"
      ]
     },
     "execution_count": 26,
     "metadata": {},
     "output_type": "execute_result"
    }
   ],
   "source": [
    "models[model_key][max_id_].keys()"
   ]
  },
  {
   "cell_type": "markdown",
   "metadata": {},
   "source": [
    "## gather all models result into one Table"
   ]
  },
  {
   "cell_type": "code",
   "execution_count": 41,
   "metadata": {},
   "outputs": [],
   "source": [
    "records=[]\n",
    "for model_key in [\"rough_stochvol\",\"rough_stochvol.t\",\"rough_stochvol.nig\",\"rough_stochvolln\",\"rs_stochvol\"]:\n",
    "    if model_key==\"rough_stochvol.t\":\n",
    "        max_id_=np.argsort([max(x[\"likelihood\"]) for x in models[model_key] ])[-2]\n",
    "    else:\n",
    "        max_id_=np.argmax([max(x[\"likelihood\"]) for x in models[model_key] ])\n",
    "    fits_for_a_start_values=models[model_key][max_id_]\n",
    "    \n",
    "\n",
    "    idd=np.argmax(fits_for_a_start_values[\"likelihood\"])\n",
    "    df=models[model_key][max_id_][\"df\"]\n",
    "    tmp_df=df.loc[[x for x in df.index if x.startswith(f\"e{idd+1}\")]]\n",
    "    new_key=model_key.replace(\"_\",\"-\")\n",
    "    indexx=[f\"{new_key}_{x[2:]}\" for x in tmp_df.index]\n",
    "    tmp_df.index=indexx\n",
    "    records.append(tmp_df)\n",
    "\n",
    "    "
   ]
  },
  {
   "cell_type": "code",
   "execution_count": 42,
   "metadata": {},
   "outputs": [
    {
     "data": {
      "text/plain": [
       "array([0])"
      ]
     },
     "execution_count": 42,
     "metadata": {},
     "output_type": "execute_result"
    }
   ],
   "source": [
    "np.argsort(fits_for_a_start_values[\"likelihood\"])"
   ]
  },
  {
   "cell_type": "code",
   "execution_count": 43,
   "metadata": {},
   "outputs": [
    {
     "name": "stdout",
     "output_type": "stream",
     "text": [
      "\\begin{tabular}{lrrrrrr}\n",
      " & mean & sd & 0.025quant & 0.5quant & 0.975quant & mode \\\\\n",
      "rough-stochvol_std.dev & 0.52 & 0.16 & 0.32 & 0.49 & 0.91 & 0.45 \\\\\n",
      "rough-stochvol_range & 207.19 & 105.68 & 80.34 & 180.97 & 482.27 & 141.45 \\\\\n",
      "rough-stochvol_nu & 0.36 & 0.07 & 0.25 & 0.35 & 0.51 & 0.34 \\\\\n",
      "rough-stochvol.t_std.dev & 0.17 & 0.28 & -0.05 & 0.03 & 0.87 & 0.00 \\\\\n",
      "rough-stochvol.t_range & 51.92 & 50.30 & -6.62 & 36.91 & 172.40 & 8.31 \\\\\n",
      "rough-stochvol.t_nu & 1.77 & 0.36 & 0.79 & 1.97 & 2.00 & 2.00 \\\\\n",
      "rough-stochvol.nig_std.dev & 0.24 & 0.32 & -0.08 & 0.07 & 0.92 & 0.01 \\\\\n",
      "rough-stochvol.nig_range & 59.63 & 60.82 & -9.34 & 40.62 & 211.54 & 8.19 \\\\\n",
      "rough-stochvol.nig_nu & 1.61 & 0.51 & 0.37 & 1.89 & 2.00 & 2.00 \\\\\n",
      "rough-stochvolln_std.dev & 0.46 & 0.13 & 0.28 & 0.43 & 0.78 & 0.40 \\\\\n",
      "rough-stochvolln_range & 167.32 & 16.73 & 135.17 & 167.38 & 200.75 & 169.35 \\\\\n",
      "rough-stochvolln_nu & 0.25 & 0.06 & 0.14 & 0.25 & 0.40 & 0.24 \\\\\n",
      "rs-stochvol_rough_std.dev & 0.32 & 0.37 & 0.03 & 0.18 & 1.51 & 0.10 \\\\\n",
      "rs-stochvol_rough_range & 425.38 & 239.17 & 78.12 & 386.72 & 971.68 & 324.72 \\\\\n",
      "rs-stochvol_rough_nu & 0.28 & 0.19 & 0.02 & 0.24 & 0.71 & 0.06 \\\\\n",
      "rs-stochvol_smooth_std.dev & 0.56 & 0.30 & 0.11 & 0.54 & 1.20 & 0.53 \\\\\n",
      "rs-stochvol_smooth_range & 209.16 & 294.68 & 8.82 & 120.45 & 997.47 & 60.97 \\\\\n",
      "rs-stochvol_smooth_nu & 1.02 & 0.45 & 0.17 & 1.06 & 1.75 & 1.35 \\\\\n",
      "\\end{tabular}\n",
      "\n"
     ]
    }
   ],
   "source": [
    "\n",
    "df = pd.concat(records).style.format(decimal='.', precision=2)\n",
    "print(df.to_latex())"
   ]
  },
  {
   "cell_type": "markdown",
   "metadata": {},
   "source": [
    "#### inspect the stability"
   ]
  },
  {
   "cell_type": "code",
   "execution_count": 30,
   "metadata": {},
   "outputs": [
    {
     "ename": "KeyError",
     "evalue": "'rough_stochvol'",
     "output_type": "error",
     "traceback": [
      "\u001b[0;31m---------------------------------------------------------------------------\u001b[0m",
      "\u001b[0;31mKeyError\u001b[0m                                  Traceback (most recent call last)",
      "Cell \u001b[0;32mIn[30], line 1\u001b[0m\n\u001b[0;32m----> 1\u001b[0m \u001b[43mmodels\u001b[49m\u001b[43m[\u001b[49m\u001b[38;5;124;43m\"\u001b[39;49m\u001b[38;5;124;43mrough_stochvol\u001b[39;49m\u001b[38;5;124;43m\"\u001b[39;49m\u001b[43m]\u001b[49m[\u001b[38;5;241m1\u001b[39m]\n",
      "\u001b[0;31mKeyError\u001b[0m: 'rough_stochvol'"
     ]
    }
   ],
   "source": [
    "models[\"rough_stochvol\"][1]"
   ]
  },
  {
   "cell_type": "code",
   "execution_count": 31,
   "metadata": {},
   "outputs": [
    {
     "data": {
      "text/plain": [
       "dict_keys(['rs_stochvol'])"
      ]
     },
     "execution_count": 31,
     "metadata": {},
     "output_type": "execute_result"
    }
   ],
   "source": [
    "models.keys()"
   ]
  },
  {
   "cell_type": "code",
   "execution_count": 39,
   "metadata": {},
   "outputs": [],
   "source": [
    "model_key=\"rs_stochvol\""
   ]
  },
  {
   "cell_type": "code",
   "execution_count": 40,
   "metadata": {},
   "outputs": [
    {
     "name": "stdout",
     "output_type": "stream",
     "text": [
      "\\begin{tabular}{lrrrrrrr}\n",
      "\\toprule\n",
      " & rough_std.dev & rough_range & rough_nu & smooth_std.dev & smooth_range & smooth_nu & likelihood \\\\\n",
      "\\midrule\n",
      "(2/203.0629/0.2727) & 0.318 & 425.381 & 0.276 & 0.559 & 209.159 & 1.021 & 3639.098 \\\\\n",
      "(4/280.6559/0.3288) & 0.261 & 753.167 & 0.206 & 0.697 & 116.871 & 1.298 & 3637.651 \\\\\n",
      "(3/261.8294/0.1813) & 0.227 & 784.766 & 0.259 & 0.660 & 115.201 & 1.469 & 3637.525 \\\\\n",
      "(5/289.6834/0.6559) & 0.181 & 1052.700 & 0.154 & 0.710 & 130.611 & 1.212 & 3637.406 \\\\\n",
      "\\bottomrule\n",
      "\\end{tabular}\n",
      "\n"
     ]
    }
   ],
   "source": [
    "\n",
    "\n",
    "all=[(x[\"startValue\"],x[\"df\"][\"mean\"],x[\"likelihood\"]) for x in models[model_key]]\n",
    "df=pd.concat([x[1] for x in all],axis=1)\n",
    "\n",
    "df.columns=[f\"\"\"({x[0][\"rspde.order\"]}/{x[0][\"prior.range.nominal\"]:.4f}/{x[0][\"prior.std.dev.nominal\"]:.4f})\"\"\" for x in all]\n",
    "df=df.T\n",
    "df.columns=[x[2:] for x in df.columns]\n",
    "df[\"likelihood\"]=np.array([x[2] for x in all])\n",
    "\n",
    "df=df.sort_values(\"likelihood\",ascending=False)\n",
    "print(df.to_latex(float_format=\"%.3f\"))"
   ]
  },
  {
   "cell_type": "code",
   "execution_count": null,
   "metadata": {},
   "outputs": [],
   "source": []
  }
 ],
 "metadata": {
  "kernelspec": {
   "display_name": "py310",
   "language": "python",
   "name": "python3"
  },
  "language_info": {
   "codemirror_mode": {
    "name": "ipython",
    "version": 3
   },
   "file_extension": ".py",
   "mimetype": "text/x-python",
   "name": "python",
   "nbconvert_exporter": "python",
   "pygments_lexer": "ipython3",
   "version": "3.10.14"
  }
 },
 "nbformat": 4,
 "nbformat_minor": 2
}
