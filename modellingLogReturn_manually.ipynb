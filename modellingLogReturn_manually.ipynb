{
 "cells": [
  {
   "cell_type": "code",
   "execution_count": null,
   "metadata": {
    "vscode": {
     "languageId": "r"
    }
   },
   "outputs": [],
   "source": [
    "source(\"helper.R\")"
   ]
  },
  {
   "cell_type": "code",
   "execution_count": 20,
   "metadata": {
    "vscode": {
     "languageId": "r"
    }
   },
   "outputs": [
    {
     "name": "stderr",
     "output_type": "stream",
     "text": [
      "\u001b[1mRows: \u001b[22m\u001b[34m2372\u001b[39m \u001b[1mColumns: \u001b[22m\u001b[34m10\u001b[39m\n",
      "\u001b[36m──\u001b[39m \u001b[1mColumn specification\u001b[22m \u001b[36m────────────────────────────────────────────────────────\u001b[39m\n",
      "\u001b[1mDelimiter:\u001b[22m \",\"\n",
      "\u001b[32mdbl\u001b[39m  (9): Open, High, Low, Close, Volume, Dividends, Stock Splits, vol10, vol30\n",
      "\u001b[34mdate\u001b[39m (1): Date\n",
      "\n",
      "\u001b[36mℹ\u001b[39m Use `spec()` to retrieve the full column specification for this data.\n",
      "\u001b[36mℹ\u001b[39m Specify the column types or set `show_col_types = FALSE` to quiet this message.\n"
     ]
    }
   ],
   "source": [
    "data <- as.data.frame(read_csv(\"tmp/1180_vol.csv\"))\n",
    "logpt<-log(data$Close)#\n",
    "logreturn <-logpt[2:length(logpt)]-logpt[1:(length(logpt)-1)]\n",
    "date <- data$Date[1:(length(data$Date)-1)]\n",
    "dates<-as.integer(format(as.Date(date),\"%Y%M%d\"))\n",
    "date_timeindex<-as.numeric(as.POSIXct(date))\n",
    "date_timeindex<-(date_timeindex - min(date_timeindex))/86400"
   ]
  },
  {
   "cell_type": "code",
   "execution_count": 21,
   "metadata": {
    "vscode": {
     "languageId": "r"
    }
   },
   "outputs": [
    {
     "data": {
      "text/html": [
       "<table class=\"dataframe\">\n",
       "<caption>A data.frame: 3 × 6</caption>\n",
       "<thead>\n",
       "\t<tr><th></th><th scope=col>mean</th><th scope=col>sd</th><th scope=col>0.025quant</th><th scope=col>0.5quant</th><th scope=col>0.975quant</th><th scope=col>mode</th></tr>\n",
       "\t<tr><th></th><th scope=col>&lt;dbl&gt;</th><th scope=col>&lt;dbl&gt;</th><th scope=col>&lt;dbl&gt;</th><th scope=col>&lt;dbl&gt;</th><th scope=col>&lt;dbl&gt;</th><th scope=col>&lt;dbl&gt;</th></tr>\n",
       "</thead>\n",
       "<tbody>\n",
       "\t<tr><th scope=row>std.dev</th><td>  1.292950</td><td> 0.1519670</td><td>  1.035540</td><td>  1.277430</td><td>  1.629260</td><td>  1.233700</td></tr>\n",
       "\t<tr><th scope=row>range</th><td>218.916000</td><td>22.9842000</td><td>177.294000</td><td>217.514000</td><td>267.215000</td><td>215.361000</td></tr>\n",
       "\t<tr><th scope=row>nu</th><td>  0.436547</td><td> 0.0122714</td><td>  0.415069</td><td>  0.435523</td><td>  0.462974</td><td>  0.432288</td></tr>\n",
       "</tbody>\n",
       "</table>\n"
      ],
      "text/latex": [
       "A data.frame: 3 × 6\n",
       "\\begin{tabular}{r|llllll}\n",
       "  & mean & sd & 0.025quant & 0.5quant & 0.975quant & mode\\\\\n",
       "  & <dbl> & <dbl> & <dbl> & <dbl> & <dbl> & <dbl>\\\\\n",
       "\\hline\n",
       "\tstd.dev &   1.292950 &  0.1519670 &   1.035540 &   1.277430 &   1.629260 &   1.233700\\\\\n",
       "\trange & 218.916000 & 22.9842000 & 177.294000 & 217.514000 & 267.215000 & 215.361000\\\\\n",
       "\tnu &   0.436547 &  0.0122714 &   0.415069 &   0.435523 &   0.462974 &   0.432288\\\\\n",
       "\\end{tabular}\n"
      ],
      "text/markdown": [
       "\n",
       "A data.frame: 3 × 6\n",
       "\n",
       "| <!--/--> | mean &lt;dbl&gt; | sd &lt;dbl&gt; | 0.025quant &lt;dbl&gt; | 0.5quant &lt;dbl&gt; | 0.975quant &lt;dbl&gt; | mode &lt;dbl&gt; |\n",
       "|---|---|---|---|---|---|---|\n",
       "| std.dev |   1.292950 |  0.1519670 |   1.035540 |   1.277430 |   1.629260 |   1.233700 |\n",
       "| range | 218.916000 | 22.9842000 | 177.294000 | 217.514000 | 267.215000 | 215.361000 |\n",
       "| nu |   0.436547 |  0.0122714 |   0.415069 |   0.435523 |   0.462974 |   0.432288 |\n",
       "\n"
      ],
      "text/plain": [
       "        mean       sd         0.025quant 0.5quant   0.975quant mode      \n",
       "std.dev   1.292950  0.1519670   1.035540   1.277430   1.629260   1.233700\n",
       "range   218.916000 22.9842000 177.294000 217.514000 267.215000 215.361000\n",
       "nu        0.436547  0.0122714   0.415069   0.435523   0.462974   0.432288"
      ]
     },
     "metadata": {},
     "output_type": "display_data"
    }
   ],
   "source": [
    "mesh <- fm_mesh_1d(date_timeindex) \n",
    "data_length=length(logreturn)\n",
    "data = list(logreturn = logreturn, times = date_timeindex[1:data_length])\n",
    "\n",
    "rspde_model <- rspde.matern(mesh = mesh)\n",
    "formula <- logreturn ~ f(times, model = rspde_model)\n",
    "fit <- bru(formula, family=\"stochvol\", data = data)\n",
    "result_fit<- rspde.result(fit, \"f\", rspde_model, parameterization=\"matern\")\n",
    "summary(result_fit)"
   ]
  },
  {
   "cell_type": "code",
   "execution_count": null,
   "metadata": {
    "vscode": {
     "languageId": "r"
    }
   },
   "outputs": [],
   "source": []
  },
  {
   "cell_type": "code",
   "execution_count": 22,
   "metadata": {
    "vscode": {
     "languageId": "r"
    }
   },
   "outputs": [
    {
     "data": {
      "text/html": [
       "<table class=\"dataframe\">\n",
       "<caption>A data.frame: 3 × 6</caption>\n",
       "<thead>\n",
       "\t<tr><th></th><th scope=col>mean</th><th scope=col>sd</th><th scope=col>0.025quant</th><th scope=col>0.5quant</th><th scope=col>0.975quant</th><th scope=col>mode</th></tr>\n",
       "\t<tr><th></th><th scope=col>&lt;dbl&gt;</th><th scope=col>&lt;dbl&gt;</th><th scope=col>&lt;dbl&gt;</th><th scope=col>&lt;dbl&gt;</th><th scope=col>&lt;dbl&gt;</th><th scope=col>&lt;dbl&gt;</th></tr>\n",
       "</thead>\n",
       "<tbody>\n",
       "\t<tr><th scope=row>std.dev</th><td> 0.973675</td><td>0.213386</td><td> 0.547474</td><td> 0.984540</td><td> 1.36110</td><td> 1.052020</td></tr>\n",
       "\t<tr><th scope=row>range</th><td>19.205900</td><td>4.749510</td><td>11.677900</td><td>18.623300</td><td>30.34740</td><td>17.373000</td></tr>\n",
       "\t<tr><th scope=row>nu</th><td> 0.730098</td><td>0.252809</td><td> 0.263118</td><td> 0.730262</td><td> 1.21734</td><td> 0.764914</td></tr>\n",
       "</tbody>\n",
       "</table>\n"
      ],
      "text/latex": [
       "A data.frame: 3 × 6\n",
       "\\begin{tabular}{r|llllll}\n",
       "  & mean & sd & 0.025quant & 0.5quant & 0.975quant & mode\\\\\n",
       "  & <dbl> & <dbl> & <dbl> & <dbl> & <dbl> & <dbl>\\\\\n",
       "\\hline\n",
       "\tstd.dev &  0.973675 & 0.213386 &  0.547474 &  0.984540 &  1.36110 &  1.052020\\\\\n",
       "\trange & 19.205900 & 4.749510 & 11.677900 & 18.623300 & 30.34740 & 17.373000\\\\\n",
       "\tnu &  0.730098 & 0.252809 &  0.263118 &  0.730262 &  1.21734 &  0.764914\\\\\n",
       "\\end{tabular}\n"
      ],
      "text/markdown": [
       "\n",
       "A data.frame: 3 × 6\n",
       "\n",
       "| <!--/--> | mean &lt;dbl&gt; | sd &lt;dbl&gt; | 0.025quant &lt;dbl&gt; | 0.5quant &lt;dbl&gt; | 0.975quant &lt;dbl&gt; | mode &lt;dbl&gt; |\n",
       "|---|---|---|---|---|---|---|\n",
       "| std.dev |  0.973675 | 0.213386 |  0.547474 |  0.984540 |  1.36110 |  1.052020 |\n",
       "| range | 19.205900 | 4.749510 | 11.677900 | 18.623300 | 30.34740 | 17.373000 |\n",
       "| nu |  0.730098 | 0.252809 |  0.263118 |  0.730262 |  1.21734 |  0.764914 |\n",
       "\n"
      ],
      "text/plain": [
       "        mean      sd       0.025quant 0.5quant  0.975quant mode     \n",
       "std.dev  0.973675 0.213386  0.547474   0.984540  1.36110    1.052020\n",
       "range   19.205900 4.749510 11.677900  18.623300 30.34740   17.373000\n",
       "nu       0.730098 0.252809  0.263118   0.730262  1.21734    0.764914"
      ]
     },
     "metadata": {},
     "output_type": "display_data"
    }
   ],
   "source": [
    "fit <- bru(formula, family=\"stochvol.t\", data = data)\n",
    "result_fit<- rspde.result(fit, \"f\", rspde_model, parameterization=\"matern\")\n",
    "summary(result_fit)"
   ]
  },
  {
   "cell_type": "code",
   "execution_count": 23,
   "metadata": {
    "vscode": {
     "languageId": "r"
    }
   },
   "outputs": [
    {
     "data": {
      "text/html": [
       "<table class=\"dataframe\">\n",
       "<caption>A data.frame: 3 × 6</caption>\n",
       "<thead>\n",
       "\t<tr><th></th><th scope=col>mean</th><th scope=col>sd</th><th scope=col>0.025quant</th><th scope=col>0.5quant</th><th scope=col>0.975quant</th><th scope=col>mode</th></tr>\n",
       "\t<tr><th></th><th scope=col>&lt;dbl&gt;</th><th scope=col>&lt;dbl&gt;</th><th scope=col>&lt;dbl&gt;</th><th scope=col>&lt;dbl&gt;</th><th scope=col>&lt;dbl&gt;</th><th scope=col>&lt;dbl&gt;</th></tr>\n",
       "</thead>\n",
       "<tbody>\n",
       "\t<tr><th scope=row>std.dev</th><td> 0.817092</td><td>0.137857</td><td>0.572968</td><td> 0.809749</td><td> 1.108340</td><td> 0.763214</td></tr>\n",
       "\t<tr><th scope=row>range</th><td>24.688900</td><td>9.683970</td><td>9.420820</td><td>23.433400</td><td>46.871600</td><td>19.913300</td></tr>\n",
       "\t<tr><th scope=row>nu</th><td> 0.409563</td><td>0.142716</td><td>0.199329</td><td> 0.384796</td><td> 0.751917</td><td> 0.332253</td></tr>\n",
       "</tbody>\n",
       "</table>\n"
      ],
      "text/latex": [
       "A data.frame: 3 × 6\n",
       "\\begin{tabular}{r|llllll}\n",
       "  & mean & sd & 0.025quant & 0.5quant & 0.975quant & mode\\\\\n",
       "  & <dbl> & <dbl> & <dbl> & <dbl> & <dbl> & <dbl>\\\\\n",
       "\\hline\n",
       "\tstd.dev &  0.817092 & 0.137857 & 0.572968 &  0.809749 &  1.108340 &  0.763214\\\\\n",
       "\trange & 24.688900 & 9.683970 & 9.420820 & 23.433400 & 46.871600 & 19.913300\\\\\n",
       "\tnu &  0.409563 & 0.142716 & 0.199329 &  0.384796 &  0.751917 &  0.332253\\\\\n",
       "\\end{tabular}\n"
      ],
      "text/markdown": [
       "\n",
       "A data.frame: 3 × 6\n",
       "\n",
       "| <!--/--> | mean &lt;dbl&gt; | sd &lt;dbl&gt; | 0.025quant &lt;dbl&gt; | 0.5quant &lt;dbl&gt; | 0.975quant &lt;dbl&gt; | mode &lt;dbl&gt; |\n",
       "|---|---|---|---|---|---|---|\n",
       "| std.dev |  0.817092 | 0.137857 | 0.572968 |  0.809749 |  1.108340 |  0.763214 |\n",
       "| range | 24.688900 | 9.683970 | 9.420820 | 23.433400 | 46.871600 | 19.913300 |\n",
       "| nu |  0.409563 | 0.142716 | 0.199329 |  0.384796 |  0.751917 |  0.332253 |\n",
       "\n"
      ],
      "text/plain": [
       "        mean      sd       0.025quant 0.5quant  0.975quant mode     \n",
       "std.dev  0.817092 0.137857 0.572968    0.809749  1.108340   0.763214\n",
       "range   24.688900 9.683970 9.420820   23.433400 46.871600  19.913300\n",
       "nu       0.409563 0.142716 0.199329    0.384796  0.751917   0.332253"
      ]
     },
     "metadata": {},
     "output_type": "display_data"
    }
   ],
   "source": [
    "fit <- bru(formula, family=\"stochvol.nig\", data = data)\n",
    "result_fit<- rspde.result(fit, \"f\", rspde_model, parameterization=\"matern\")\n",
    "summary(result_fit)"
   ]
  },
  {
   "cell_type": "code",
   "execution_count": 24,
   "metadata": {
    "vscode": {
     "languageId": "r"
    }
   },
   "outputs": [
    {
     "data": {
      "text/html": [
       "<table class=\"dataframe\">\n",
       "<caption>A data.frame: 3 × 6</caption>\n",
       "<thead>\n",
       "\t<tr><th></th><th scope=col>mean</th><th scope=col>sd</th><th scope=col>0.025quant</th><th scope=col>0.5quant</th><th scope=col>0.975quant</th><th scope=col>mode</th></tr>\n",
       "\t<tr><th></th><th scope=col>&lt;dbl&gt;</th><th scope=col>&lt;dbl&gt;</th><th scope=col>&lt;dbl&gt;</th><th scope=col>&lt;dbl&gt;</th><th scope=col>&lt;dbl&gt;</th><th scope=col>&lt;dbl&gt;</th></tr>\n",
       "</thead>\n",
       "<tbody>\n",
       "\t<tr><th scope=row>std.dev</th><td>1.244770</td><td>0.01899470</td><td>1.208220</td><td>1.24451</td><td>1.282250</td><td>1.237720</td></tr>\n",
       "\t<tr><th scope=row>range</th><td>9.699550</td><td>0.11625800</td><td>9.475110</td><td>9.69805</td><td>9.927020</td><td>9.711550</td></tr>\n",
       "\t<tr><th scope=row>nu</th><td>0.600663</td><td>0.00497853</td><td>0.590902</td><td>0.60065</td><td>0.610427</td><td>0.600626</td></tr>\n",
       "</tbody>\n",
       "</table>\n"
      ],
      "text/latex": [
       "A data.frame: 3 × 6\n",
       "\\begin{tabular}{r|llllll}\n",
       "  & mean & sd & 0.025quant & 0.5quant & 0.975quant & mode\\\\\n",
       "  & <dbl> & <dbl> & <dbl> & <dbl> & <dbl> & <dbl>\\\\\n",
       "\\hline\n",
       "\tstd.dev & 1.244770 & 0.01899470 & 1.208220 & 1.24451 & 1.282250 & 1.237720\\\\\n",
       "\trange & 9.699550 & 0.11625800 & 9.475110 & 9.69805 & 9.927020 & 9.711550\\\\\n",
       "\tnu & 0.600663 & 0.00497853 & 0.590902 & 0.60065 & 0.610427 & 0.600626\\\\\n",
       "\\end{tabular}\n"
      ],
      "text/markdown": [
       "\n",
       "A data.frame: 3 × 6\n",
       "\n",
       "| <!--/--> | mean &lt;dbl&gt; | sd &lt;dbl&gt; | 0.025quant &lt;dbl&gt; | 0.5quant &lt;dbl&gt; | 0.975quant &lt;dbl&gt; | mode &lt;dbl&gt; |\n",
       "|---|---|---|---|---|---|---|\n",
       "| std.dev | 1.244770 | 0.01899470 | 1.208220 | 1.24451 | 1.282250 | 1.237720 |\n",
       "| range | 9.699550 | 0.11625800 | 9.475110 | 9.69805 | 9.927020 | 9.711550 |\n",
       "| nu | 0.600663 | 0.00497853 | 0.590902 | 0.60065 | 0.610427 | 0.600626 |\n",
       "\n"
      ],
      "text/plain": [
       "        mean     sd         0.025quant 0.5quant 0.975quant mode    \n",
       "std.dev 1.244770 0.01899470 1.208220   1.24451  1.282250   1.237720\n",
       "range   9.699550 0.11625800 9.475110   9.69805  9.927020   9.711550\n",
       "nu      0.600663 0.00497853 0.590902   0.60065  0.610427   0.600626"
      ]
     },
     "metadata": {},
     "output_type": "display_data"
    }
   ],
   "source": [
    "fit <- bru(formula, family=\"stochvolln\", data = data)\n",
    "result_fit<- rspde.result(fit, \"f\", rspde_model, parameterization=\"matern\")\n",
    "summary(result_fit)"
   ]
  },
  {
   "cell_type": "code",
   "execution_count": 25,
   "metadata": {
    "vscode": {
     "languageId": "r"
    }
   },
   "outputs": [
    {
     "data": {
      "text/html": [
       "<table class=\"dataframe\">\n",
       "<caption>A data.frame: 6 × 6</caption>\n",
       "<thead>\n",
       "\t<tr><th></th><th scope=col>mean</th><th scope=col>sd</th><th scope=col>0.025quant</th><th scope=col>0.5quant</th><th scope=col>0.975quant</th><th scope=col>mode</th></tr>\n",
       "\t<tr><th></th><th scope=col>&lt;dbl&gt;</th><th scope=col>&lt;dbl&gt;</th><th scope=col>&lt;dbl&gt;</th><th scope=col>&lt;dbl&gt;</th><th scope=col>&lt;dbl&gt;</th><th scope=col>&lt;dbl&gt;</th></tr>\n",
       "</thead>\n",
       "<tbody>\n",
       "\t<tr><th scope=row>std.dev</th><td>  1.879650</td><td> 0.15909800</td><td>  1.588160</td><td>  1.871770</td><td>  2.211610</td><td>  1.853490</td></tr>\n",
       "\t<tr><th scope=row>range</th><td>569.782000</td><td>66.20290000</td><td>452.060000</td><td>566.115000</td><td>713.623000</td><td>559.888000</td></tr>\n",
       "\t<tr><th scope=row>nu</th><td>  0.483560</td><td> 0.00351897</td><td>  0.476775</td><td>  0.483708</td><td>  0.490641</td><td>  0.483706</td></tr>\n",
       "\t<tr><th scope=row>std.dev1</th><td>  0.399671</td><td> 0.15015100</td><td>  0.181166</td><td>  0.375916</td><td>  0.749904</td><td>  0.326629</td></tr>\n",
       "\t<tr><th scope=row>range1</th><td>494.652000</td><td>51.33580000</td><td>400.384000</td><td>492.879000</td><td>600.532000</td><td>488.689000</td></tr>\n",
       "\t<tr><th scope=row>nu1</th><td>  0.812309</td><td> 0.05512210</td><td>  0.705845</td><td>  0.811715</td><td>  0.922150</td><td>  0.810546</td></tr>\n",
       "</tbody>\n",
       "</table>\n"
      ],
      "text/latex": [
       "A data.frame: 6 × 6\n",
       "\\begin{tabular}{r|llllll}\n",
       "  & mean & sd & 0.025quant & 0.5quant & 0.975quant & mode\\\\\n",
       "  & <dbl> & <dbl> & <dbl> & <dbl> & <dbl> & <dbl>\\\\\n",
       "\\hline\n",
       "\tstd.dev &   1.879650 &  0.15909800 &   1.588160 &   1.871770 &   2.211610 &   1.853490\\\\\n",
       "\trange & 569.782000 & 66.20290000 & 452.060000 & 566.115000 & 713.623000 & 559.888000\\\\\n",
       "\tnu &   0.483560 &  0.00351897 &   0.476775 &   0.483708 &   0.490641 &   0.483706\\\\\n",
       "\tstd.dev1 &   0.399671 &  0.15015100 &   0.181166 &   0.375916 &   0.749904 &   0.326629\\\\\n",
       "\trange1 & 494.652000 & 51.33580000 & 400.384000 & 492.879000 & 600.532000 & 488.689000\\\\\n",
       "\tnu1 &   0.812309 &  0.05512210 &   0.705845 &   0.811715 &   0.922150 &   0.810546\\\\\n",
       "\\end{tabular}\n"
      ],
      "text/markdown": [
       "\n",
       "A data.frame: 6 × 6\n",
       "\n",
       "| <!--/--> | mean &lt;dbl&gt; | sd &lt;dbl&gt; | 0.025quant &lt;dbl&gt; | 0.5quant &lt;dbl&gt; | 0.975quant &lt;dbl&gt; | mode &lt;dbl&gt; |\n",
       "|---|---|---|---|---|---|---|\n",
       "| std.dev |   1.879650 |  0.15909800 |   1.588160 |   1.871770 |   2.211610 |   1.853490 |\n",
       "| range | 569.782000 | 66.20290000 | 452.060000 | 566.115000 | 713.623000 | 559.888000 |\n",
       "| nu |   0.483560 |  0.00351897 |   0.476775 |   0.483708 |   0.490641 |   0.483706 |\n",
       "| std.dev1 |   0.399671 |  0.15015100 |   0.181166 |   0.375916 |   0.749904 |   0.326629 |\n",
       "| range1 | 494.652000 | 51.33580000 | 400.384000 | 492.879000 | 600.532000 | 488.689000 |\n",
       "| nu1 |   0.812309 |  0.05512210 |   0.705845 |   0.811715 |   0.922150 |   0.810546 |\n",
       "\n"
      ],
      "text/plain": [
       "         mean       sd          0.025quant 0.5quant   0.975quant mode      \n",
       "std.dev    1.879650  0.15909800   1.588160   1.871770   2.211610   1.853490\n",
       "range    569.782000 66.20290000 452.060000 566.115000 713.623000 559.888000\n",
       "nu         0.483560  0.00351897   0.476775   0.483708   0.490641   0.483706\n",
       "std.dev1   0.399671  0.15015100   0.181166   0.375916   0.749904   0.326629\n",
       "range1   494.652000 51.33580000 400.384000 492.879000 600.532000 488.689000\n",
       "nu1        0.812309  0.05512210   0.705845   0.811715   0.922150   0.810546"
      ]
     },
     "metadata": {},
     "output_type": "display_data"
    }
   ],
   "source": [
    "rspde_model1 <- rspde.matern(mesh = mesh,nu.upper.bound=1)\n",
    "\n",
    "rspde_model2 <- rspde.matern(mesh = mesh,nu.upper.bound=2)\n",
    "formula <- logreturn ~ Intercept(1) + rough(times, model = rspde_model1) + smooth(times, model = rspde_model2)\n",
    "\n",
    "fit <- bru(formula, family=\"stochvol\", data = data)\n",
    "result_fit1<- rspde.result(fit, \"rough\", rspde_model1, parameterization=\"matern\")\n",
    "result_fit2<- rspde.result(fit, \"smooth\", rspde_model2, parameterization=\"matern\")\n",
    "rbind(summary(result_fit1),summary(result_fit2))"
   ]
  },
  {
   "cell_type": "code",
   "execution_count": null,
   "metadata": {
    "vscode": {
     "languageId": "r"
    }
   },
   "outputs": [],
   "source": [
    "head(data,1)"
   ]
  },
  {
   "cell_type": "code",
   "execution_count": null,
   "metadata": {
    "vscode": {
     "languageId": "r"
    }
   },
   "outputs": [],
   "source": [
    "\n",
    "data <- as.data.frame(read_csv(\"tmp/IF_logreturn.csv\"))\n",
    "logreturn <-data$logreturn\n",
    "date <- data[,1]\n",
    "dates<-as.integer(format(as.Date(date),\"%Y%M%d\"))\n",
    "date_timeindex<-as.numeric(as.POSIXct(date))\n",
    "date_timeindex<-(date_timeindex - min(date_timeindex))/86400"
   ]
  },
  {
   "cell_type": "code",
   "execution_count": 15,
   "metadata": {
    "vscode": {
     "languageId": "r"
    }
   },
   "outputs": [
    {
     "name": "stdout",
     "output_type": "stream",
     "text": [
      "\n",
      " *** inla.core.safe:  The inla program failed, but will rerun in case better initial values may help. try=1/1 \n",
      "\n",
      " *** inla.core.safe:  rerun with improved initial values \n"
     ]
    },
    {
     "data": {
      "text/html": [
       "<table class=\"dataframe\">\n",
       "<caption>A data.frame: 3 × 6</caption>\n",
       "<thead>\n",
       "\t<tr><th></th><th scope=col>mean</th><th scope=col>sd</th><th scope=col>0.025quant</th><th scope=col>0.5quant</th><th scope=col>0.975quant</th><th scope=col>mode</th></tr>\n",
       "\t<tr><th></th><th scope=col>&lt;dbl&gt;</th><th scope=col>&lt;dbl&gt;</th><th scope=col>&lt;dbl&gt;</th><th scope=col>&lt;dbl&gt;</th><th scope=col>&lt;dbl&gt;</th><th scope=col>&lt;dbl&gt;</th></tr>\n",
       "</thead>\n",
       "<tbody>\n",
       "\t<tr><th scope=row>std.dev</th><td>  0.549061</td><td> 0.13627</td><td> 0.340786</td><td>  0.529590</td><td>  0.872117</td><td>  0.495738</td></tr>\n",
       "\t<tr><th scope=row>range</th><td>113.113000</td><td>26.89150</td><td>68.924000</td><td>110.435000</td><td>173.935000</td><td>104.299000</td></tr>\n",
       "\t<tr><th scope=row>nu</th><td>  0.352275</td><td> 0.16662</td><td> 0.100088</td><td>  0.329772</td><td>  0.735782</td><td>  0.268482</td></tr>\n",
       "</tbody>\n",
       "</table>\n"
      ],
      "text/latex": [
       "A data.frame: 3 × 6\n",
       "\\begin{tabular}{r|llllll}\n",
       "  & mean & sd & 0.025quant & 0.5quant & 0.975quant & mode\\\\\n",
       "  & <dbl> & <dbl> & <dbl> & <dbl> & <dbl> & <dbl>\\\\\n",
       "\\hline\n",
       "\tstd.dev &   0.549061 &  0.13627 &  0.340786 &   0.529590 &   0.872117 &   0.495738\\\\\n",
       "\trange & 113.113000 & 26.89150 & 68.924000 & 110.435000 & 173.935000 & 104.299000\\\\\n",
       "\tnu &   0.352275 &  0.16662 &  0.100088 &   0.329772 &   0.735782 &   0.268482\\\\\n",
       "\\end{tabular}\n"
      ],
      "text/markdown": [
       "\n",
       "A data.frame: 3 × 6\n",
       "\n",
       "| <!--/--> | mean &lt;dbl&gt; | sd &lt;dbl&gt; | 0.025quant &lt;dbl&gt; | 0.5quant &lt;dbl&gt; | 0.975quant &lt;dbl&gt; | mode &lt;dbl&gt; |\n",
       "|---|---|---|---|---|---|---|\n",
       "| std.dev |   0.549061 |  0.13627 |  0.340786 |   0.529590 |   0.872117 |   0.495738 |\n",
       "| range | 113.113000 | 26.89150 | 68.924000 | 110.435000 | 173.935000 | 104.299000 |\n",
       "| nu |   0.352275 |  0.16662 |  0.100088 |   0.329772 |   0.735782 |   0.268482 |\n",
       "\n"
      ],
      "text/plain": [
       "        mean       sd       0.025quant 0.5quant   0.975quant mode      \n",
       "std.dev   0.549061  0.13627  0.340786    0.529590   0.872117   0.495738\n",
       "range   113.113000 26.89150 68.924000  110.435000 173.935000 104.299000\n",
       "nu        0.352275  0.16662  0.100088    0.329772   0.735782   0.268482"
      ]
     },
     "metadata": {},
     "output_type": "display_data"
    }
   ],
   "source": [
    "mesh <- fm_mesh_1d(date_timeindex) \n",
    "data_length=length(logreturn)\n",
    "data = list(logreturn = logreturn, times = date_timeindex[1:data_length])\n",
    "\n",
    "rspde_model <- rspde.matern(mesh = mesh)\n",
    "formula <- logreturn ~ f(times, model = rspde_model)\n",
    "fit <- bru(formula, family=\"stochvol\", data = data)\n",
    "result_fit<- rspde.result(fit, \"f\", rspde_model, parameterization=\"matern\")\n",
    "summary(result_fit)"
   ]
  },
  {
   "cell_type": "code",
   "execution_count": 16,
   "metadata": {
    "vscode": {
     "languageId": "r"
    }
   },
   "outputs": [
    {
     "data": {
      "text/html": [
       "<table class=\"dataframe\">\n",
       "<caption>A data.frame: 3 × 6</caption>\n",
       "<thead>\n",
       "\t<tr><th></th><th scope=col>mean</th><th scope=col>sd</th><th scope=col>0.025quant</th><th scope=col>0.5quant</th><th scope=col>0.975quant</th><th scope=col>mode</th></tr>\n",
       "\t<tr><th></th><th scope=col>&lt;dbl&gt;</th><th scope=col>&lt;dbl&gt;</th><th scope=col>&lt;dbl&gt;</th><th scope=col>&lt;dbl&gt;</th><th scope=col>&lt;dbl&gt;</th><th scope=col>&lt;dbl&gt;</th></tr>\n",
       "</thead>\n",
       "<tbody>\n",
       "\t<tr><th scope=row>std.dev</th><td>  0.683297</td><td> 0.934141</td><td> 0.2331880</td><td>  0.631260</td><td>  1.20375</td><td>  0.621303</td></tr>\n",
       "\t<tr><th scope=row>range</th><td>135.984000</td><td>54.651500</td><td>55.6428000</td><td>126.646000</td><td>265.10200</td><td>112.893000</td></tr>\n",
       "\t<tr><th scope=row>nu</th><td>  0.869016</td><td> 0.475075</td><td> 0.0874804</td><td>  0.863799</td><td>  1.72117</td><td>  1.108260</td></tr>\n",
       "</tbody>\n",
       "</table>\n"
      ],
      "text/latex": [
       "A data.frame: 3 × 6\n",
       "\\begin{tabular}{r|llllll}\n",
       "  & mean & sd & 0.025quant & 0.5quant & 0.975quant & mode\\\\\n",
       "  & <dbl> & <dbl> & <dbl> & <dbl> & <dbl> & <dbl>\\\\\n",
       "\\hline\n",
       "\tstd.dev &   0.683297 &  0.934141 &  0.2331880 &   0.631260 &   1.20375 &   0.621303\\\\\n",
       "\trange & 135.984000 & 54.651500 & 55.6428000 & 126.646000 & 265.10200 & 112.893000\\\\\n",
       "\tnu &   0.869016 &  0.475075 &  0.0874804 &   0.863799 &   1.72117 &   1.108260\\\\\n",
       "\\end{tabular}\n"
      ],
      "text/markdown": [
       "\n",
       "A data.frame: 3 × 6\n",
       "\n",
       "| <!--/--> | mean &lt;dbl&gt; | sd &lt;dbl&gt; | 0.025quant &lt;dbl&gt; | 0.5quant &lt;dbl&gt; | 0.975quant &lt;dbl&gt; | mode &lt;dbl&gt; |\n",
       "|---|---|---|---|---|---|---|\n",
       "| std.dev |   0.683297 |  0.934141 |  0.2331880 |   0.631260 |   1.20375 |   0.621303 |\n",
       "| range | 135.984000 | 54.651500 | 55.6428000 | 126.646000 | 265.10200 | 112.893000 |\n",
       "| nu |   0.869016 |  0.475075 |  0.0874804 |   0.863799 |   1.72117 |   1.108260 |\n",
       "\n"
      ],
      "text/plain": [
       "        mean       sd        0.025quant 0.5quant   0.975quant mode      \n",
       "std.dev   0.683297  0.934141  0.2331880   0.631260   1.20375    0.621303\n",
       "range   135.984000 54.651500 55.6428000 126.646000 265.10200  112.893000\n",
       "nu        0.869016  0.475075  0.0874804   0.863799   1.72117    1.108260"
      ]
     },
     "metadata": {},
     "output_type": "display_data"
    }
   ],
   "source": [
    "mesh <- fm_mesh_1d(date_timeindex) \n",
    "data_length=length(logreturn)\n",
    "data = list(logreturn = logreturn, times = date_timeindex[1:data_length])\n",
    "\n",
    "rspde_model <- rspde.matern(mesh = mesh)\n",
    "formula <- logreturn ~ f(times, model = rspde_model)\n",
    "fit <- bru(formula, family=\"stochvol.t\", data = data)\n",
    "result_fit<- rspde.result(fit, \"f\", rspde_model, parameterization=\"matern\")\n",
    "summary(result_fit)"
   ]
  },
  {
   "cell_type": "code",
   "execution_count": 17,
   "metadata": {
    "vscode": {
     "languageId": "r"
    }
   },
   "outputs": [
    {
     "data": {
      "text/html": [
       "<table class=\"dataframe\">\n",
       "<caption>A data.frame: 3 × 6</caption>\n",
       "<thead>\n",
       "\t<tr><th></th><th scope=col>mean</th><th scope=col>sd</th><th scope=col>0.025quant</th><th scope=col>0.5quant</th><th scope=col>0.975quant</th><th scope=col>mode</th></tr>\n",
       "\t<tr><th></th><th scope=col>&lt;dbl&gt;</th><th scope=col>&lt;dbl&gt;</th><th scope=col>&lt;dbl&gt;</th><th scope=col>&lt;dbl&gt;</th><th scope=col>&lt;dbl&gt;</th><th scope=col>&lt;dbl&gt;</th></tr>\n",
       "</thead>\n",
       "<tbody>\n",
       "\t<tr><th scope=row>std.dev</th><td>  0.872018</td><td> 1.983260</td><td> 0.310051</td><td>  0.659661</td><td>  2.54561</td><td>  0.650426</td></tr>\n",
       "\t<tr><th scope=row>range</th><td>125.313000</td><td>44.441000</td><td>58.558500</td><td>118.338000</td><td>230.24800</td><td>110.079000</td></tr>\n",
       "\t<tr><th scope=row>nu</th><td>  0.738644</td><td> 0.462739</td><td> 0.039369</td><td>  0.714707</td><td>  1.57789</td><td>  0.067176</td></tr>\n",
       "</tbody>\n",
       "</table>\n"
      ],
      "text/latex": [
       "A data.frame: 3 × 6\n",
       "\\begin{tabular}{r|llllll}\n",
       "  & mean & sd & 0.025quant & 0.5quant & 0.975quant & mode\\\\\n",
       "  & <dbl> & <dbl> & <dbl> & <dbl> & <dbl> & <dbl>\\\\\n",
       "\\hline\n",
       "\tstd.dev &   0.872018 &  1.983260 &  0.310051 &   0.659661 &   2.54561 &   0.650426\\\\\n",
       "\trange & 125.313000 & 44.441000 & 58.558500 & 118.338000 & 230.24800 & 110.079000\\\\\n",
       "\tnu &   0.738644 &  0.462739 &  0.039369 &   0.714707 &   1.57789 &   0.067176\\\\\n",
       "\\end{tabular}\n"
      ],
      "text/markdown": [
       "\n",
       "A data.frame: 3 × 6\n",
       "\n",
       "| <!--/--> | mean &lt;dbl&gt; | sd &lt;dbl&gt; | 0.025quant &lt;dbl&gt; | 0.5quant &lt;dbl&gt; | 0.975quant &lt;dbl&gt; | mode &lt;dbl&gt; |\n",
       "|---|---|---|---|---|---|---|\n",
       "| std.dev |   0.872018 |  1.983260 |  0.310051 |   0.659661 |   2.54561 |   0.650426 |\n",
       "| range | 125.313000 | 44.441000 | 58.558500 | 118.338000 | 230.24800 | 110.079000 |\n",
       "| nu |   0.738644 |  0.462739 |  0.039369 |   0.714707 |   1.57789 |   0.067176 |\n",
       "\n"
      ],
      "text/plain": [
       "        mean       sd        0.025quant 0.5quant   0.975quant mode      \n",
       "std.dev   0.872018  1.983260  0.310051    0.659661   2.54561    0.650426\n",
       "range   125.313000 44.441000 58.558500  118.338000 230.24800  110.079000\n",
       "nu        0.738644  0.462739  0.039369    0.714707   1.57789    0.067176"
      ]
     },
     "metadata": {},
     "output_type": "display_data"
    }
   ],
   "source": [
    "mesh <- fm_mesh_1d(date_timeindex) \n",
    "data_length=length(logreturn)\n",
    "data = list(logreturn = logreturn, times = date_timeindex[1:data_length])\n",
    "\n",
    "rspde_model <- rspde.matern(mesh = mesh)\n",
    "formula <- logreturn ~ f(times, model = rspde_model)\n",
    "fit <- bru(formula, family=\"stochvol.nig\", data = data)\n",
    "result_fit<- rspde.result(fit, \"f\", rspde_model, parameterization=\"matern\")\n",
    "summary(result_fit)"
   ]
  },
  {
   "cell_type": "code",
   "execution_count": 18,
   "metadata": {
    "vscode": {
     "languageId": "r"
    }
   },
   "outputs": [
    {
     "data": {
      "text/html": [
       "<table class=\"dataframe\">\n",
       "<caption>A data.frame: 3 × 6</caption>\n",
       "<thead>\n",
       "\t<tr><th></th><th scope=col>mean</th><th scope=col>sd</th><th scope=col>0.025quant</th><th scope=col>0.5quant</th><th scope=col>0.975quant</th><th scope=col>mode</th></tr>\n",
       "\t<tr><th></th><th scope=col>&lt;dbl&gt;</th><th scope=col>&lt;dbl&gt;</th><th scope=col>&lt;dbl&gt;</th><th scope=col>&lt;dbl&gt;</th><th scope=col>&lt;dbl&gt;</th><th scope=col>&lt;dbl&gt;</th></tr>\n",
       "</thead>\n",
       "<tbody>\n",
       "\t<tr><th scope=row>std.dev</th><td>  0.585619</td><td> 0.1268920</td><td>  0.386207</td><td>  0.570114</td><td>  0.877509</td><td>  0.529652</td></tr>\n",
       "\t<tr><th scope=row>range</th><td>330.843000</td><td>17.6988000</td><td>297.893000</td><td>330.320000</td><td>367.136000</td><td>328.097000</td></tr>\n",
       "\t<tr><th scope=row>nu</th><td>  0.415156</td><td> 0.0305475</td><td>  0.357856</td><td>  0.414234</td><td>  0.477724</td><td>  0.412143</td></tr>\n",
       "</tbody>\n",
       "</table>\n"
      ],
      "text/latex": [
       "A data.frame: 3 × 6\n",
       "\\begin{tabular}{r|llllll}\n",
       "  & mean & sd & 0.025quant & 0.5quant & 0.975quant & mode\\\\\n",
       "  & <dbl> & <dbl> & <dbl> & <dbl> & <dbl> & <dbl>\\\\\n",
       "\\hline\n",
       "\tstd.dev &   0.585619 &  0.1268920 &   0.386207 &   0.570114 &   0.877509 &   0.529652\\\\\n",
       "\trange & 330.843000 & 17.6988000 & 297.893000 & 330.320000 & 367.136000 & 328.097000\\\\\n",
       "\tnu &   0.415156 &  0.0305475 &   0.357856 &   0.414234 &   0.477724 &   0.412143\\\\\n",
       "\\end{tabular}\n"
      ],
      "text/markdown": [
       "\n",
       "A data.frame: 3 × 6\n",
       "\n",
       "| <!--/--> | mean &lt;dbl&gt; | sd &lt;dbl&gt; | 0.025quant &lt;dbl&gt; | 0.5quant &lt;dbl&gt; | 0.975quant &lt;dbl&gt; | mode &lt;dbl&gt; |\n",
       "|---|---|---|---|---|---|---|\n",
       "| std.dev |   0.585619 |  0.1268920 |   0.386207 |   0.570114 |   0.877509 |   0.529652 |\n",
       "| range | 330.843000 | 17.6988000 | 297.893000 | 330.320000 | 367.136000 | 328.097000 |\n",
       "| nu |   0.415156 |  0.0305475 |   0.357856 |   0.414234 |   0.477724 |   0.412143 |\n",
       "\n"
      ],
      "text/plain": [
       "        mean       sd         0.025quant 0.5quant   0.975quant mode      \n",
       "std.dev   0.585619  0.1268920   0.386207   0.570114   0.877509   0.529652\n",
       "range   330.843000 17.6988000 297.893000 330.320000 367.136000 328.097000\n",
       "nu        0.415156  0.0305475   0.357856   0.414234   0.477724   0.412143"
      ]
     },
     "metadata": {},
     "output_type": "display_data"
    }
   ],
   "source": [
    "mesh <- fm_mesh_1d(date_timeindex) \n",
    "data_length=length(logreturn)\n",
    "data = list(logreturn = logreturn, times = date_timeindex[1:data_length])\n",
    "\n",
    "rspde_model <- rspde.matern(mesh = mesh)\n",
    "formula <- logreturn ~ f(times, model = rspde_model)\n",
    "fit <- bru(formula, family=\"stochvolln\", data = data)\n",
    "result_fit<- rspde.result(fit, \"f\", rspde_model, parameterization=\"matern\")\n",
    "summary(result_fit)"
   ]
  },
  {
   "cell_type": "code",
   "execution_count": 19,
   "metadata": {
    "vscode": {
     "languageId": "r"
    }
   },
   "outputs": [
    {
     "name": "stdout",
     "output_type": "stream",
     "text": [
      "\n",
      " *** inla.core.safe:  The inla program failed, but will rerun in case better initial values may help. try=1/1 \n",
      "\n",
      " *** inla.core.safe:  rerun with improved initial values \n"
     ]
    },
    {
     "data": {
      "text/html": [
       "<table class=\"dataframe\">\n",
       "<caption>A data.frame: 6 × 6</caption>\n",
       "<thead>\n",
       "\t<tr><th></th><th scope=col>mean</th><th scope=col>sd</th><th scope=col>0.025quant</th><th scope=col>0.5quant</th><th scope=col>0.975quant</th><th scope=col>mode</th></tr>\n",
       "\t<tr><th></th><th scope=col>&lt;dbl&gt;</th><th scope=col>&lt;dbl&gt;</th><th scope=col>&lt;dbl&gt;</th><th scope=col>&lt;dbl&gt;</th><th scope=col>&lt;dbl&gt;</th><th scope=col>&lt;dbl&gt;</th></tr>\n",
       "</thead>\n",
       "<tbody>\n",
       "\t<tr><th scope=row>std.dev</th><td>  0.291139</td><td>  0.197007</td><td> 0.0772014</td><td>  0.238277</td><td>  0.812954</td><td>  0.170130</td></tr>\n",
       "\t<tr><th scope=row>range</th><td>244.037000</td><td>121.227000</td><td>89.5711000</td><td>217.761000</td><td>542.571000</td><td>187.405000</td></tr>\n",
       "\t<tr><th scope=row>nu</th><td>  0.253350</td><td>  0.106343</td><td> 0.0908001</td><td>  0.237930</td><td>  0.499347</td><td>  0.201829</td></tr>\n",
       "\t<tr><th scope=row>std.dev1</th><td>  0.599046</td><td>  0.196767</td><td> 0.2811700</td><td>  0.576311</td><td>  1.050190</td><td>  0.515712</td></tr>\n",
       "\t<tr><th scope=row>range1</th><td>145.546000</td><td> 79.258800</td><td>42.6395000</td><td>128.411000</td><td>348.149000</td><td>103.339000</td></tr>\n",
       "\t<tr><th scope=row>nu1</th><td>  1.040820</td><td>  0.213393</td><td> 0.6241570</td><td>  1.042390</td><td>  1.448420</td><td>  1.045640</td></tr>\n",
       "</tbody>\n",
       "</table>\n"
      ],
      "text/latex": [
       "A data.frame: 6 × 6\n",
       "\\begin{tabular}{r|llllll}\n",
       "  & mean & sd & 0.025quant & 0.5quant & 0.975quant & mode\\\\\n",
       "  & <dbl> & <dbl> & <dbl> & <dbl> & <dbl> & <dbl>\\\\\n",
       "\\hline\n",
       "\tstd.dev &   0.291139 &   0.197007 &  0.0772014 &   0.238277 &   0.812954 &   0.170130\\\\\n",
       "\trange & 244.037000 & 121.227000 & 89.5711000 & 217.761000 & 542.571000 & 187.405000\\\\\n",
       "\tnu &   0.253350 &   0.106343 &  0.0908001 &   0.237930 &   0.499347 &   0.201829\\\\\n",
       "\tstd.dev1 &   0.599046 &   0.196767 &  0.2811700 &   0.576311 &   1.050190 &   0.515712\\\\\n",
       "\trange1 & 145.546000 &  79.258800 & 42.6395000 & 128.411000 & 348.149000 & 103.339000\\\\\n",
       "\tnu1 &   1.040820 &   0.213393 &  0.6241570 &   1.042390 &   1.448420 &   1.045640\\\\\n",
       "\\end{tabular}\n"
      ],
      "text/markdown": [
       "\n",
       "A data.frame: 6 × 6\n",
       "\n",
       "| <!--/--> | mean &lt;dbl&gt; | sd &lt;dbl&gt; | 0.025quant &lt;dbl&gt; | 0.5quant &lt;dbl&gt; | 0.975quant &lt;dbl&gt; | mode &lt;dbl&gt; |\n",
       "|---|---|---|---|---|---|---|\n",
       "| std.dev |   0.291139 |   0.197007 |  0.0772014 |   0.238277 |   0.812954 |   0.170130 |\n",
       "| range | 244.037000 | 121.227000 | 89.5711000 | 217.761000 | 542.571000 | 187.405000 |\n",
       "| nu |   0.253350 |   0.106343 |  0.0908001 |   0.237930 |   0.499347 |   0.201829 |\n",
       "| std.dev1 |   0.599046 |   0.196767 |  0.2811700 |   0.576311 |   1.050190 |   0.515712 |\n",
       "| range1 | 145.546000 |  79.258800 | 42.6395000 | 128.411000 | 348.149000 | 103.339000 |\n",
       "| nu1 |   1.040820 |   0.213393 |  0.6241570 |   1.042390 |   1.448420 |   1.045640 |\n",
       "\n"
      ],
      "text/plain": [
       "         mean       sd         0.025quant 0.5quant   0.975quant mode      \n",
       "std.dev    0.291139   0.197007  0.0772014   0.238277   0.812954   0.170130\n",
       "range    244.037000 121.227000 89.5711000 217.761000 542.571000 187.405000\n",
       "nu         0.253350   0.106343  0.0908001   0.237930   0.499347   0.201829\n",
       "std.dev1   0.599046   0.196767  0.2811700   0.576311   1.050190   0.515712\n",
       "range1   145.546000  79.258800 42.6395000 128.411000 348.149000 103.339000\n",
       "nu1        1.040820   0.213393  0.6241570   1.042390   1.448420   1.045640"
      ]
     },
     "metadata": {},
     "output_type": "display_data"
    }
   ],
   "source": [
    "rspde_model1 <- rspde.matern(mesh = mesh,nu.upper.bound=1)\n",
    "\n",
    "rspde_model2 <- rspde.matern(mesh = mesh,nu.upper.bound=2)\n",
    "formula <- logreturn ~ Intercept(1) + rough(times, model = rspde_model1) + smooth(times, model = rspde_model2)\n",
    "\n",
    "fit <- bru(formula, family=\"stochvol\", data = data)\n",
    "result_fit1<- rspde.result(fit, \"rough\", rspde_model1, parameterization=\"matern\")\n",
    "result_fit2<- rspde.result(fit, \"smooth\", rspde_model2, parameterization=\"matern\")\n",
    "rbind(summary(result_fit1),summary(result_fit2))"
   ]
  },
  {
   "cell_type": "code",
   "execution_count": null,
   "metadata": {
    "vscode": {
     "languageId": "r"
    }
   },
   "outputs": [],
   "source": []
  }
 ],
 "metadata": {
  "kernelspec": {
   "display_name": "R",
   "language": "R",
   "name": "ir"
  },
  "language_info": {
   "codemirror_mode": "r",
   "file_extension": ".r",
   "mimetype": "text/x-r-source",
   "name": "R",
   "pygments_lexer": "r",
   "version": "4.3.3"
  }
 },
 "nbformat": 4,
 "nbformat_minor": 2
}
