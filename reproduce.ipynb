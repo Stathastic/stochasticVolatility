{
 "cells": [
  {
   "cell_type": "code",
   "execution_count": 1,
   "metadata": {
    "vscode": {
     "languageId": "r"
    }
   },
   "outputs": [
    {
     "name": "stderr",
     "output_type": "stream",
     "text": [
      "Loading required package: Matrix\n",
      "\n"
     ]
    },
    {
     "name": "stderr",
     "output_type": "stream",
     "text": [
      "Loading required package: sp\n",
      "\n",
      "This is INLA_24.04.01 built 2024-04-01 19:43:22 UTC.\n",
      " - See www.r-inla.org/contact-us for how to get help.\n",
      " - List available models/likelihoods/etc with inla.list.models()\n",
      " - Use inla.doc(<NAME>) to access documentation\n",
      "\n",
      "This is rSPDE 2.3.3.9000\n",
      "- See https://davidbolin.github.io/rSPDE for vignettes and manuals.\n",
      "\n",
      "\u001b[1mRows: \u001b[22m\u001b[34m2372\u001b[39m \u001b[1mColumns: \u001b[22m\u001b[34m10\u001b[39m\n",
      "\u001b[36m──\u001b[39m \u001b[1mColumn specification\u001b[22m \u001b[36m────────────────────────────────────────────────────────\u001b[39m\n",
      "\u001b[1mDelimiter:\u001b[22m \",\"\n",
      "\u001b[32mdbl\u001b[39m  (9): Open, High, Low, Close, Volume, Dividends, Stock Splits, vol10, vol30\n",
      "\u001b[34mdate\u001b[39m (1): Date\n",
      "\n",
      "\u001b[36mℹ\u001b[39m Use `spec()` to retrieve the full column specification for this data.\n",
      "\u001b[36mℹ\u001b[39m Specify the column types or set `show_col_types = FALSE` to quiet this message.\n"
     ]
    }
   ],
   "source": [
    "library(INLA)\n",
    "library(rSPDE)\n",
    "library(readr)\n",
    "library(fmesher)\n",
    "library(inlabru)\n",
    "data_ori <- as.data.frame(read_csv(\"tmp/1180_vol.csv\"))\n",
    "logpt<-log(data_ori$Close)\n",
    "logreturn <-logpt[2:length(logpt)]-logpt[1:(length(logpt)-1)]\n",
    "date <- data_ori$Date[1:(length(data_ori$Date)-1)]\n",
    "   \n",
    "date_timeindex<-as.numeric(as.POSIXct(date)) \n",
    "date_timeindex <- (date_timeindex - min(date_timeindex))/86400\n",
    "mesh <- fm_mesh_1d(date_timeindex)\n",
    "data = list(logreturn = logreturn, times = date_timeindex)\n",
    "\n",
    "\n",
    "#OU model\n",
    "OU_model <- rspde.matern(mesh = mesh, nu=0.5, prior.range.nominal = 50)\n",
    "formula_OU <- logreturn ~ Intercept(1) +  OU(times, model = OU_model)\n",
    "fit_OU <- bru(formula_OU, family=\"stochvol\", data = data)\n",
    "\n",
    "rspde_model <- rspde.matern(mesh = mesh, nu.upper.bound = 2, prior.range.nominal = 50)\n",
    "formula_general <- logreturn ~ Intercept(1) + matern(times, model = rspde_model) \n",
    "fit_general <- bru(formula_general, family=\"stochvol\", data = data)\n",
    "\n",
    "train <- test <- list()\n",
    "est.vol <- c() \n",
    "k = 1\n",
    "for(i in seq(from = 10, to = length(date_timeindex)-10, by = 10)){\n",
    "  train[[k]] <- 1:i\n",
    "  test[[k]] <- (i+1):(i+10)\n",
    "  est.vol <- c(est.vol, sqrt(var(logreturn[(i+1):(i+10)])))\n",
    "  k = k+1\n",
    "}\n",
    "\n",
    "\n",
    "models <- list(fit_OU=fit_OU, fit_general=fit_general)\n",
    "\n",
    "res2 <- cross_validation(models,train_test_indexes = list(train = train, test = test))\n"
   ]
  },
  {
   "cell_type": "code",
   "execution_count": 2,
   "metadata": {
    "vscode": {
     "languageId": "r"
    }
   },
   "outputs": [
    {
     "name": "stdout",
     "output_type": "stream",
     "text": [
      "Fold: 1 / 10 \n",
      "Model: fit_OU \n",
      "Generating samples...\n",
      "Samples generated!\n",
      "MSE: 0.000328179402793863 \n",
      "DSS: -5.70132478049813 \n",
      "CRPS: -0.0119544662398515 \n",
      "SCRPS: -0.748279685381048 \n",
      "Fold: 1 / 10 \n",
      "Model: fit_general \n",
      "Generating samples...\n",
      "Samples generated!\n",
      "MSE: 0.000367015708844511 \n",
      "DSS: -5.83089556887779 \n",
      "CRPS: -0.0120133414930712 \n",
      "SCRPS: -0.759528435477684 \n",
      "Fold: 2 / 10 \n",
      "Model: fit_OU \n",
      "Generating samples...\n",
      "Samples generated!\n",
      "MSE: 0.00171609648745947 \n",
      "DSS: -5.41405039776554 \n",
      "CRPS: -0.0224080721618007 \n",
      "SCRPS: -0.545347118766032 \n",
      "Fold: 2 / 10 \n",
      "Model: fit_general \n",
      "Generating samples...\n",
      "Samples generated!\n",
      "MSE: 0.00171451396644025 \n",
      "DSS: -5.25560971416279 \n",
      "CRPS: -0.0224819608517082 \n",
      "SCRPS: -0.522056046713027 \n",
      "Fold: 3 / 10 \n",
      "Model: fit_OU \n",
      "Generating samples...\n",
      "Samples generated!\n",
      "MSE: 0.000429287030008779 \n",
      "DSS: -6.37975440747405 \n",
      "CRPS: -0.0125655163725497 \n",
      "SCRPS: -0.820477666161541 \n",
      "Fold: 3 / 10 \n",
      "Model: fit_general \n",
      "Generating samples...\n",
      "Samples generated!\n",
      "MSE: 0.000431432792034187 \n",
      "DSS: -6.35209982417537 \n",
      "CRPS: -0.0120174560764626 \n",
      "SCRPS: -0.833438683645769 \n",
      "Fold: 4 / 10 \n",
      "Model: fit_OU \n",
      "Generating samples...\n",
      "Samples generated!\n",
      "MSE: 0.000280872305523875 \n",
      "DSS: -6.45435772216609 \n",
      "CRPS: -0.00971926951780344 \n",
      "SCRPS: -0.887364445064301 \n",
      "Fold: 4 / 10 \n",
      "Model: fit_general \n",
      "Generating samples...\n",
      "Samples generated!\n",
      "MSE: 0.000273224336433216 \n",
      "DSS: -6.59592291569463 \n",
      "CRPS: -0.00904469611798174 \n",
      "SCRPS: -0.926266818919833 \n",
      "Fold: 5 / 10 \n",
      "Model: fit_OU \n",
      "Generating samples...\n",
      "Samples generated!\n",
      "MSE: 0.000249104569144082 \n",
      "DSS: -6.82448116315401 \n",
      "CRPS: -0.00915093232421218 \n",
      "SCRPS: -0.961351391426442 \n",
      "Fold: 5 / 10 \n",
      "Model: fit_general \n",
      "Generating samples...\n",
      "Samples generated!\n",
      "MSE: 0.000257836909381688 \n",
      "DSS: -6.99108473057121 \n",
      "CRPS: -0.00914481614656188 \n",
      "SCRPS: -0.978998440677732 \n",
      "Fold: 6 / 10 \n",
      "Model: fit_OU \n",
      "Generating samples...\n",
      "Samples generated!\n",
      "MSE: 0.00104932304756649 \n",
      "DSS: -5.9166233965076 \n",
      "CRPS: -0.0172230843710146 \n",
      "SCRPS: -0.689753757659781 \n",
      "Fold: 6 / 10 \n",
      "Model: fit_general \n",
      "Generating samples...\n",
      "Samples generated!\n",
      "MSE: 0.0010219104315586 \n",
      "DSS: -5.89245917323486 \n",
      "CRPS: -0.0172424478155074 \n",
      "SCRPS: -0.672846477241172 \n",
      "Fold: 7 / 10 \n",
      "Model: fit_OU \n",
      "Generating samples...\n",
      "Samples generated!\n",
      "MSE: 5.05371245407568e-05 \n",
      "DSS: -7.00162775030898 \n",
      "CRPS: -0.00509864900623737 \n",
      "SCRPS: -1.09210900754942 \n",
      "Fold: 7 / 10 \n",
      "Model: fit_general \n",
      "Generating samples...\n",
      "Samples generated!\n",
      "MSE: 4.95501432174038e-05 \n",
      "DSS: -7.16221522547442 \n",
      "CRPS: -0.00560746282685951 \n",
      "SCRPS: -1.09088989204754 \n",
      "Fold: 8 / 10 \n",
      "Model: fit_OU \n",
      "Generating samples...\n",
      "Samples generated!\n",
      "MSE: 9.97579246036827e-05 \n",
      "DSS: -7.76059671529561 \n",
      "CRPS: -0.00611084520243109 \n",
      "SCRPS: -1.16997162943833 \n",
      "Fold: 8 / 10 \n",
      "Model: fit_general \n",
      "Generating samples...\n",
      "Samples generated!\n",
      "MSE: 0.000103541617066121 \n",
      "DSS: -7.9499416399708 \n",
      "CRPS: -0.00588511934628168 \n",
      "SCRPS: -1.20706107704739 \n",
      "Fold: 9 / 10 \n",
      "Model: fit_OU \n",
      "Generating samples...\n",
      "Samples generated!\n",
      "MSE: 0.000437744788472832 \n",
      "DSS: -6.7960159806424 \n",
      "CRPS: -0.0110920464422632 \n",
      "SCRPS: -0.907609891842487 \n",
      "Fold: 9 / 10 \n",
      "Model: fit_general \n",
      "Generating samples...\n",
      "Samples generated!\n",
      "MSE: 0.000439015936954794 \n",
      "DSS: -6.5473562138763 \n",
      "CRPS: -0.0111571324300338 \n",
      "SCRPS: -0.880805411192824 \n",
      "Fold: 10 / 10 \n",
      "Model: fit_OU \n",
      "Generating samples...\n",
      "Samples generated!\n",
      "MSE: 0.000328649179191854 \n",
      "DSS: -6.97763756548075 \n",
      "CRPS: -0.0104361318504104 \n",
      "SCRPS: -0.933781455257292 \n",
      "Fold: 10 / 10 \n",
      "Model: fit_general \n",
      "Generating samples...\n",
      "Samples generated!\n",
      "MSE: 0.000334055461488082 \n",
      "DSS: -6.94888752809791 \n",
      "CRPS: -0.0102381377252103 \n",
      "SCRPS: -0.936099822905749 \n"
     ]
    }
   ],
   "source": [
    "res2 <- cross_validation(models,train_test_indexes = list(train = train[1:10], test = test[1:10]))"
   ]
  },
  {
   "cell_type": "code",
   "execution_count": 3,
   "metadata": {
    "vscode": {
     "languageId": "r"
    }
   },
   "outputs": [
    {
     "data": {
      "text/html": [
       "<table class=\"dataframe\">\n",
       "<caption>A data.frame: 3 × 5</caption>\n",
       "<thead>\n",
       "\t<tr><th></th><th scope=col>Model</th><th scope=col>dss</th><th scope=col>mse</th><th scope=col>crps</th><th scope=col>scrps</th></tr>\n",
       "\t<tr><th></th><th scope=col>&lt;chr&gt;</th><th scope=col>&lt;chr&gt;</th><th scope=col>&lt;chr&gt;</th><th scope=col>&lt;chr&gt;</th><th scope=col>&lt;chr&gt;</th></tr>\n",
       "</thead>\n",
       "<tbody>\n",
       "\t<tr><th scope=row>1</th><td>fit_OU     </td><td>-6.52264698792932</td><td>0.000496955185930569</td><td>-0.0115759013488574</td><td>-0.875604604854668</td></tr>\n",
       "\t<tr><th scope=row>2</th><td>fit_general</td><td>-6.55264725341361</td><td>0.000499209730341885</td><td>-0.0114832570829678</td><td>-0.880799110586872</td></tr>\n",
       "\t<tr><th scope=row></th><td>Best       </td><td>fit_general      </td><td>fit_OU              </td><td>fit_OU             </td><td>fit_general       </td></tr>\n",
       "</tbody>\n",
       "</table>\n"
      ],
      "text/latex": [
       "A data.frame: 3 × 5\n",
       "\\begin{tabular}{r|lllll}\n",
       "  & Model & dss & mse & crps & scrps\\\\\n",
       "  & <chr> & <chr> & <chr> & <chr> & <chr>\\\\\n",
       "\\hline\n",
       "\t1 & fit\\_OU      & -6.52264698792932 & 0.000496955185930569 & -0.0115759013488574 & -0.875604604854668\\\\\n",
       "\t2 & fit\\_general & -6.55264725341361 & 0.000499209730341885 & -0.0114832570829678 & -0.880799110586872\\\\\n",
       "\t & Best        & fit\\_general       & fit\\_OU               & fit\\_OU              & fit\\_general       \\\\\n",
       "\\end{tabular}\n"
      ],
      "text/markdown": [
       "\n",
       "A data.frame: 3 × 5\n",
       "\n",
       "| <!--/--> | Model &lt;chr&gt; | dss &lt;chr&gt; | mse &lt;chr&gt; | crps &lt;chr&gt; | scrps &lt;chr&gt; |\n",
       "|---|---|---|---|---|---|\n",
       "| 1 | fit_OU      | -6.52264698792932 | 0.000496955185930569 | -0.0115759013488574 | -0.875604604854668 |\n",
       "| 2 | fit_general | -6.55264725341361 | 0.000499209730341885 | -0.0114832570829678 | -0.880799110586872 |\n",
       "| <!----> | Best        | fit_general       | fit_OU               | fit_OU              | fit_general        |\n",
       "\n"
      ],
      "text/plain": [
       "  Model       dss               mse                  crps               \n",
       "1 fit_OU      -6.52264698792932 0.000496955185930569 -0.0115759013488574\n",
       "2 fit_general -6.55264725341361 0.000499209730341885 -0.0114832570829678\n",
       "  Best        fit_general       fit_OU               fit_OU             \n",
       "  scrps             \n",
       "1 -0.875604604854668\n",
       "2 -0.880799110586872\n",
       "  fit_general       "
      ]
     },
     "metadata": {},
     "output_type": "display_data"
    }
   ],
   "source": [
    "res2"
   ]
  },
  {
   "cell_type": "code",
   "execution_count": 2,
   "metadata": {
    "vscode": {
     "languageId": "r"
    }
   },
   "outputs": [
    {
     "data": {
      "text/plain": [
       "[1] ‘24.4.1’"
      ]
     },
     "metadata": {},
     "output_type": "display_data"
    }
   ],
   "source": [
    "packageVersion(\"INLA\")"
   ]
  },
  {
   "cell_type": "code",
   "execution_count": 3,
   "metadata": {
    "vscode": {
     "languageId": "r"
    }
   },
   "outputs": [
    {
     "data": {
      "text/plain": [
       "[1] ‘2.10.1’"
      ]
     },
     "metadata": {},
     "output_type": "display_data"
    }
   ],
   "source": [
    "packageVersion(\"inlabru\")"
   ]
  },
  {
   "cell_type": "code",
   "execution_count": 4,
   "metadata": {
    "vscode": {
     "languageId": "r"
    }
   },
   "outputs": [
    {
     "data": {
      "text/plain": [
       "[1] ‘2.3.3’"
      ]
     },
     "metadata": {},
     "output_type": "display_data"
    }
   ],
   "source": [
    "packageVersion(\"rSPDE\")"
   ]
  },
  {
   "cell_type": "code",
   "execution_count": 5,
   "metadata": {
    "vscode": {
     "languageId": "r"
    }
   },
   "outputs": [
    {
     "data": {
      "text/html": [
       "<table class=\"dataframe\">\n",
       "<caption>A data.frame: 3 × 5</caption>\n",
       "<thead>\n",
       "\t<tr><th></th><th scope=col>Model</th><th scope=col>dss</th><th scope=col>mse</th><th scope=col>crps</th><th scope=col>scrps</th></tr>\n",
       "\t<tr><th></th><th scope=col>&lt;chr&gt;</th><th scope=col>&lt;chr&gt;</th><th scope=col>&lt;chr&gt;</th><th scope=col>&lt;chr&gt;</th><th scope=col>&lt;chr&gt;</th></tr>\n",
       "</thead>\n",
       "<tbody>\n",
       "\t<tr><th scope=row>1</th><td>fit_OU     </td><td>0     </td><td>0     </td><td>0     </td><td>0     </td></tr>\n",
       "\t<tr><th scope=row>2</th><td>fit_general</td><td>0     </td><td>0     </td><td>0     </td><td>0     </td></tr>\n",
       "\t<tr><th scope=row></th><td>Best       </td><td>fit_OU</td><td>fit_OU</td><td>fit_OU</td><td>fit_OU</td></tr>\n",
       "</tbody>\n",
       "</table>\n"
      ],
      "text/latex": [
       "A data.frame: 3 × 5\n",
       "\\begin{tabular}{r|lllll}\n",
       "  & Model & dss & mse & crps & scrps\\\\\n",
       "  & <chr> & <chr> & <chr> & <chr> & <chr>\\\\\n",
       "\\hline\n",
       "\t1 & fit\\_OU      & 0      & 0      & 0      & 0     \\\\\n",
       "\t2 & fit\\_general & 0      & 0      & 0      & 0     \\\\\n",
       "\t & Best        & fit\\_OU & fit\\_OU & fit\\_OU & fit\\_OU\\\\\n",
       "\\end{tabular}\n"
      ],
      "text/markdown": [
       "\n",
       "A data.frame: 3 × 5\n",
       "\n",
       "| <!--/--> | Model &lt;chr&gt; | dss &lt;chr&gt; | mse &lt;chr&gt; | crps &lt;chr&gt; | scrps &lt;chr&gt; |\n",
       "|---|---|---|---|---|---|\n",
       "| 1 | fit_OU      | 0      | 0      | 0      | 0      |\n",
       "| 2 | fit_general | 0      | 0      | 0      | 0      |\n",
       "| <!----> | Best        | fit_OU | fit_OU | fit_OU | fit_OU |\n",
       "\n"
      ],
      "text/plain": [
       "  Model       dss    mse    crps   scrps \n",
       "1 fit_OU      0      0      0      0     \n",
       "2 fit_general 0      0      0      0     \n",
       "  Best        fit_OU fit_OU fit_OU fit_OU"
      ]
     },
     "metadata": {},
     "output_type": "display_data"
    }
   ],
   "source": [
    "res2"
   ]
  },
  {
   "cell_type": "code",
   "execution_count": 8,
   "metadata": {
    "vscode": {
     "languageId": "r"
    }
   },
   "outputs": [
    {
     "data": {
      "text/html": [
       "<table class=\"dataframe\">\n",
       "<caption>A data.frame: 2 × 5</caption>\n",
       "<thead>\n",
       "\t<tr><th></th><th scope=col>Model</th><th scope=col>dss</th><th scope=col>mse</th><th scope=col>crps</th><th scope=col>scrps</th></tr>\n",
       "\t<tr><th></th><th scope=col>&lt;chr&gt;</th><th scope=col>&lt;chr&gt;</th><th scope=col>&lt;chr&gt;</th><th scope=col>&lt;chr&gt;</th><th scope=col>&lt;chr&gt;</th></tr>\n",
       "</thead>\n",
       "<tbody>\n",
       "\t<tr><th scope=row>1</th><td>Model 1</td><td>0      </td><td>0      </td><td>0      </td><td>0      </td></tr>\n",
       "\t<tr><th scope=row></th><td>Best   </td><td>Model 1</td><td>Model 1</td><td>Model 1</td><td>Model 1</td></tr>\n",
       "</tbody>\n",
       "</table>\n"
      ],
      "text/latex": [
       "A data.frame: 2 × 5\n",
       "\\begin{tabular}{r|lllll}\n",
       "  & Model & dss & mse & crps & scrps\\\\\n",
       "  & <chr> & <chr> & <chr> & <chr> & <chr>\\\\\n",
       "\\hline\n",
       "\t1 & Model 1 & 0       & 0       & 0       & 0      \\\\\n",
       "\t & Best    & Model 1 & Model 1 & Model 1 & Model 1\\\\\n",
       "\\end{tabular}\n"
      ],
      "text/markdown": [
       "\n",
       "A data.frame: 2 × 5\n",
       "\n",
       "| <!--/--> | Model &lt;chr&gt; | dss &lt;chr&gt; | mse &lt;chr&gt; | crps &lt;chr&gt; | scrps &lt;chr&gt; |\n",
       "|---|---|---|---|---|---|\n",
       "| 1 | Model 1 | 0       | 0       | 0       | 0       |\n",
       "| <!----> | Best    | Model 1 | Model 1 | Model 1 | Model 1 |\n",
       "\n"
      ],
      "text/plain": [
       "  Model   dss     mse     crps    scrps  \n",
       "1 Model 1 0       0       0       0      \n",
       "  Best    Model 1 Model 1 Model 1 Model 1"
      ]
     },
     "metadata": {},
     "output_type": "display_data"
    }
   ],
   "source": [
    "res2"
   ]
  },
  {
   "cell_type": "code",
   "execution_count": 3,
   "metadata": {
    "vscode": {
     "languageId": "r"
    }
   },
   "outputs": [
    {
     "data": {
      "text/html": [
       "<strong>$scores_df</strong> = <table class=\"dataframe\">\n",
       "<caption>A data.frame: 2 × 5</caption>\n",
       "<thead>\n",
       "\t<tr><th></th><th scope=col>Model</th><th scope=col>dss</th><th scope=col>mse</th><th scope=col>crps</th><th scope=col>scrps</th></tr>\n",
       "\t<tr><th></th><th scope=col>&lt;chr&gt;</th><th scope=col>&lt;chr&gt;</th><th scope=col>&lt;chr&gt;</th><th scope=col>&lt;chr&gt;</th><th scope=col>&lt;chr&gt;</th></tr>\n",
       "</thead>\n",
       "<tbody>\n",
       "\t<tr><th scope=row>1</th><td>model</td><td>0    </td><td>0    </td><td>0    </td><td>0    </td></tr>\n",
       "\t<tr><th scope=row></th><td>Best </td><td>model</td><td>model</td><td>model</td><td>model</td></tr>\n",
       "</tbody>\n",
       "</table>\n"
      ],
      "text/latex": [
       "\\textbf{\\$scores\\_df} = A data.frame: 2 × 5\n",
       "\\begin{tabular}{r|lllll}\n",
       "  & Model & dss & mse & crps & scrps\\\\\n",
       "  & <chr> & <chr> & <chr> & <chr> & <chr>\\\\\n",
       "\\hline\n",
       "\t1 & model & 0     & 0     & 0     & 0    \\\\\n",
       "\t & Best  & model & model & model & model\\\\\n",
       "\\end{tabular}\n"
      ],
      "text/markdown": [
       "**$scores_df** = \n",
       "A data.frame: 2 × 5\n",
       "\n",
       "| <!--/--> | Model &lt;chr&gt; | dss &lt;chr&gt; | mse &lt;chr&gt; | crps &lt;chr&gt; | scrps &lt;chr&gt; |\n",
       "|---|---|---|---|---|---|\n",
       "| 1 | model | 0     | 0     | 0     | 0     |\n",
       "| <!----> | Best  | model | model | model | model |\n",
       "\n"
      ],
      "text/plain": [
       "$scores_df\n",
       "  Model   dss   mse  crps scrps\n",
       "1 model     0     0     0     0\n",
       "   Best model model model model\n"
      ]
     },
     "metadata": {},
     "output_type": "display_data"
    }
   ],
   "source": [
    "cross_result[1]"
   ]
  },
  {
   "cell_type": "code",
   "execution_count": null,
   "metadata": {
    "vscode": {
     "languageId": "r"
    }
   },
   "outputs": [],
   "source": []
  }
 ],
 "metadata": {
  "kernelspec": {
   "display_name": "R",
   "language": "R",
   "name": "ir"
  },
  "language_info": {
   "codemirror_mode": "r",
   "file_extension": ".r",
   "mimetype": "text/x-r-source",
   "name": "R",
   "pygments_lexer": "r",
   "version": "4.3.3"
  }
 },
 "nbformat": 4,
 "nbformat_minor": 2
}
