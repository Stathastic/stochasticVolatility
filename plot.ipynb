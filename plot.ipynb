{
 "cells": [
  {
   "cell_type": "code",
   "execution_count": 1,
   "metadata": {},
   "outputs": [],
   "source": [
    "from helper import *\n",
    "import pandas as pd\n",
    "import rpy2.robjects as ro\n",
    "from rpy2.robjects import pandas2ri,numpy2ri\n",
    "from rpy2.robjects.conversion import localconverter\n",
    "pandas2ri.activate()\n",
    "import pandas as pd\n",
    "import os \n",
    "import pickle\n",
    "import numpy as np"
   ]
  },
  {
   "cell_type": "code",
   "execution_count": 2,
   "metadata": {},
   "outputs": [
    {
     "name": "stderr",
     "output_type": "stream",
     "text": [
      "R[write to console]: Loading required package: Matrix\n",
      "\n",
      "R[write to console]: Loading required package: sp\n",
      "\n",
      "R[write to console]: This is INLA_24.04.01 built 2024-04-01 19:43:22 UTC.\n",
      " - See www.r-inla.org/contact-us for how to get help.\n",
      " - List available models/likelihoods/etc with inla.list.models()\n",
      " - Use inla.doc(<NAME>) to access documentation\n",
      "\n",
      "R[write to console]: \n",
      "Attaching package: ‘zoo’\n",
      "\n",
      "\n",
      "R[write to console]: The following objects are masked from ‘package:base’:\n",
      "\n",
      "    as.Date, as.Date.numeric\n",
      "\n",
      "\n",
      "R[write to console]: \n",
      "Attaching package: ‘dplyr’\n",
      "\n",
      "\n",
      "R[write to console]: The following objects are masked from ‘package:stats’:\n",
      "\n",
      "    filter, lag\n",
      "\n",
      "\n",
      "R[write to console]: The following objects are masked from ‘package:base’:\n",
      "\n",
      "    intersect, setdiff, setequal, union\n",
      "\n",
      "\n",
      "R[write to console]: This is rSPDE 2.3.3.9000\n",
      "- See https://davidbolin.github.io/rSPDE for vignettes and manuals.\n",
      "\n"
     ]
    }
   ],
   "source": [
    "ro.r(\"\"\"source('helper.R')\"\"\")"
   ]
  },
  {
   "cell_type": "code",
   "execution_count": 3,
   "metadata": {},
   "outputs": [],
   "source": [
    "\n",
    "\n",
    "max_id=get_max(\"Log\")\n",
    "logger_path=os.path.join(\"Log\",f\"{max_id}.plot\")\n",
    "\n",
    "exp_id=20\n",
    "path=f\"/home/jianj0c/project/STP/notebook_SPDE/stochasticVolatility/Log/{exp_id}.fitting/fits\"\n",
    "results = []\n",
    "for file in os.listdir(path):\n",
    "     fit_path=os.path.join(path,file)\n",
    "     ro.r(f\"\"\"\n",
    "\n",
    "          xx<-readRDS(\"{fit_path}\")\n",
    "          result<-parse_result(xx$fit,xx$family)\n",
    "          \"\"\")\n",
    "     df=ro.r(\"result$df\")\n",
    "     likelihood=ro.r(\"unlist(result$like)\")\n",
    "     family={\"model\":ro.r(\"xx$family$model\")[0],\n",
    "             \"Y\":ro.r(\"xx$family$Y\")[0]}\n",
    "     startValue={\"prior.std.dev.nominal\":ro.r(\"xx$start_value$prior.std.dev.nominal\")[0],\n",
    "                    \"prior.range.nominal\":ro.r(\"xx$start_value$prior.range.nominal\")[0],\n",
    "                    \"rspde.order\":ro.r(\"xx$start_value$rspde.order\")[0]}\n",
    "     \n",
    "     results.append({\"df\":ro.conversion.rpy2py(df),\n",
    "                     \"likelihood\":likelihood,\n",
    "                     \"family\":family,\n",
    "                     \"startValue\":startValue,\n",
    "                     \"id\":file.split(\"_\")[1][:-4]})"
   ]
  },
  {
   "cell_type": "code",
   "execution_count": 4,
   "metadata": {},
   "outputs": [],
   "source": [
    "models=dict()\n",
    "for result in results:\n",
    "    key=f\"{result['family']['model']}_{result['family']['Y']}\"\n",
    "    if key not in models:\n",
    "        models[key]=list()\n",
    "    models[key].append(result)"
   ]
  },
  {
   "cell_type": "markdown",
   "metadata": {},
   "source": [
    "save the parsed result"
   ]
  },
  {
   "cell_type": "code",
   "execution_count": 5,
   "metadata": {},
   "outputs": [],
   "source": [
    "\n",
    "pickle.dump(models,open(f\"/home/jianj0c/project/STP/notebook_SPDE/stochasticVolatility/Log/{exp_id}.fitting/models.pkl\",\"wb\"))"
   ]
  },
  {
   "cell_type": "code",
   "execution_count": 7,
   "metadata": {},
   "outputs": [
    {
     "data": {
      "text/plain": [
       "dict_keys(['rough_stochvol.t', 'rough_stochvol', 'rough_stochvol.nig'])"
      ]
     },
     "execution_count": 7,
     "metadata": {},
     "output_type": "execute_result"
    }
   ],
   "source": [
    "models.keys()"
   ]
  },
  {
   "cell_type": "code",
   "execution_count": 12,
   "metadata": {},
   "outputs": [
    {
     "name": "stdout",
     "output_type": "stream",
     "text": [
      "\\begin{tabular}{lr}\n",
      " & 1 \\\\\n",
      "(0,212,5) & 6609.55 \\\\\n",
      "(0,213,4) & 6608.08 \\\\\n",
      "(0,215,2) & 6608.81 \\\\\n",
      "(0,231,2) & 6607.89 \\\\\n",
      "(0,88,2) & 6609.42 \\\\\n",
      "(1,146,5) & 6624.75 \\\\\n",
      "(1,147,2) & 6627.20 \\\\\n",
      "(1,148,6) & 6625.48 \\\\\n",
      "(1,149,4) & 6610.51 \\\\\n",
      "(1,153,4) & 6610.25 \\\\\n",
      "(1,162,6) & 6615.39 \\\\\n",
      "(1,177,3) & 6626.83 \\\\\n",
      "(1,179,2) & 6626.80 \\\\\n",
      "(1,180,2) & 6626.97 \\\\\n",
      "(1,199,3) & 6609.38 \\\\\n",
      "(1,199,4) & 6627.84 \\\\\n",
      "(1,203,3) & 6626.77 \\\\\n",
      "(1,220,3) & 6609.39 \\\\\n",
      "(1,262,4) & 6611.17 \\\\\n",
      "(1,291,2) & 6626.37 \\\\\n",
      "(1,295,3) & 6608.62 \\\\\n",
      "(1,296,6) & 6626.30 \\\\\n",
      "(1,31,5) & 6612.54 \\\\\n",
      "(1,62,4) & 6613.03 \\\\\n",
      "(1,73,5) & 6627.66 \\\\\n",
      "(1,77,5) & 6614.87 \\\\\n",
      "(2,184,2) & 6626.03 \\\\\n",
      "\\end{tabular}\n",
      "\n"
     ]
    }
   ],
   "source": [
    "start_values_likelihood={}\n",
    "model_key=\"rough_stochvol\"\n",
    "models[model_key]=sorted(models[model_key],key=lambda x: f\"\"\"({x[\"startValue\"][\"prior.std.dev.nominal\"]:.0f},{x[\"startValue\"][\"prior.range.nominal\"]:.0f},{x[\"startValue\"][\"rspde.order\"]:.0f})\"\"\")\n",
    "for fit in models[model_key]:\n",
    "    \n",
    "    statValue=fit[\"startValue\"]\n",
    "    key=f\"\"\"({statValue[\"prior.std.dev.nominal\"]:.0f},{statValue[\"prior.range.nominal\"]:.0f},{statValue[\"rspde.order\"]:.0f})\"\"\"\n",
    "    start_values_likelihood[key]=fit[\"likelihood\"]\n",
    "    \n",
    "df=pd.DataFrame(start_values_likelihood)\n",
    "df.index=df.index+1\n",
    "df=df.T\n",
    "df = df.style.format(decimal='.', precision=2)\n",
    "print(df.to_latex())"
   ]
  },
  {
   "cell_type": "code",
   "execution_count": 88,
   "metadata": {},
   "outputs": [
    {
     "data": {
      "text/plain": [
       "dict_keys(['rs_stochvol', 'rough_stochvolln', 'rough_stochvol.t', 'rough_stochvol', 'rough_stochvol.nig'])"
      ]
     },
     "execution_count": 88,
     "metadata": {},
     "output_type": "execute_result"
    }
   ],
   "source": [
    "models.keys()"
   ]
  },
  {
   "cell_type": "code",
   "execution_count": 89,
   "metadata": {},
   "outputs": [
    {
     "name": "stdout",
     "output_type": "stream",
     "text": [
      "config id 150\n",
      "run id 0\n"
     ]
    }
   ],
   "source": [
    "model_key=\"rs_stochvol\"\n",
    "max_id_=np.argmax([max(x[\"likelihood\"]) for x in models[model_key] ])\n",
    "print(\"config id\",models[model_key][max_id_][\"id\"])\n",
    "print(\"run id\",np.argmax(models[model_key][max_id_][\"likelihood\"]))"
   ]
  },
  {
   "cell_type": "code",
   "execution_count": 84,
   "metadata": {},
   "outputs": [
    {
     "data": {
      "text/plain": [
       "array([10, 23,  0, 19,  3, 11, 16, 25, 29,  1, 28, 24, 14, 26, 15, 12, 21,\n",
       "       17, 22, 27,  2,  5,  4, 18, 20, 13,  9,  6,  8,  7])"
      ]
     },
     "execution_count": 84,
     "metadata": {},
     "output_type": "execute_result"
    }
   ],
   "source": [
    "np.argsort([max(x[\"likelihood\"]) for x in models[model_key] ])"
   ]
  },
  {
   "cell_type": "code",
   "execution_count": 85,
   "metadata": {},
   "outputs": [
    {
     "data": {
      "text/plain": [
       "'65'"
      ]
     },
     "execution_count": 85,
     "metadata": {},
     "output_type": "execute_result"
    }
   ],
   "source": [
    "models[model_key][8][\"id\"]"
   ]
  },
  {
   "cell_type": "markdown",
   "metadata": {},
   "source": [
    "## gather all models result into one Table"
   ]
  },
  {
   "cell_type": "code",
   "execution_count": 104,
   "metadata": {},
   "outputs": [],
   "source": [
    "records=[]\n",
    "for model_key in [\"rough_stochvol\",\"rough_stochvol.t\",\"rough_stochvol.nig\",\"rough_stochvolln\"]:\n",
    "    if model_key==\"rough_stochvol.t\":\n",
    "        max_id_=np.argsort([max(x[\"likelihood\"]) for x in models[model_key] ])[-2]\n",
    "    else:\n",
    "        max_id_=np.argmax([max(x[\"likelihood\"]) for x in models[model_key] ])\n",
    "    fits_for_a_start_values=models[model_key][max_id_]\n",
    "    \n",
    "\n",
    "    idd=np.argmax(fits_for_a_start_values[\"likelihood\"])\n",
    "    df=models[model_key][max_id_][\"df\"]\n",
    "    tmp_df=df.loc[[x for x in df.index if x.startswith(f\"e{idd+1}\")]]\n",
    "    new_key=model_key.replace(\"_\",\"-\")\n",
    "    indexx=[f\"{new_key}_{x[2:]}\" for x in tmp_df.index]\n",
    "    tmp_df.index=indexx\n",
    "    records.append(tmp_df)\n",
    "\n",
    "    "
   ]
  },
  {
   "cell_type": "code",
   "execution_count": 105,
   "metadata": {},
   "outputs": [
    {
     "data": {
      "text/plain": [
       "array([0])"
      ]
     },
     "execution_count": 105,
     "metadata": {},
     "output_type": "execute_result"
    }
   ],
   "source": [
    "np.argsort(fits_for_a_start_values[\"likelihood\"])"
   ]
  },
  {
   "cell_type": "code",
   "execution_count": 108,
   "metadata": {},
   "outputs": [
    {
     "name": "stdout",
     "output_type": "stream",
     "text": [
      "\\begin{tabular}{lrrrrrr}\n",
      " & mean & sd & 0.025quant & 0.5quant & 0.975quant & mode \\\\\n",
      "rough-stochvol_std.dev & 0.56 & 0.06 & 0.46 & 0.56 & 0.69 & 0.55 \\\\\n",
      "rough-stochvol_range & 25.46 & 16.34 & 7.74 & 21.03 & 67.68 & 16.40 \\\\\n",
      "rough-stochvol_nu & 0.09 & 0.02 & 0.04 & 0.09 & 0.14 & 0.09 \\\\\n",
      "rough-stochvol.t_std.dev & 0.74 & 0.24 & 0.44 & 0.68 & 1.38 & 0.62 \\\\\n",
      "rough-stochvol.t_range & 23.78 & 12.47 & 6.25 & 21.53 & 54.84 & 18.09 \\\\\n",
      "rough-stochvol.t_nu & 0.22 & 0.18 & 0.03 & 0.16 & 0.70 & 0.08 \\\\\n",
      "rough-stochvol.nig_std.dev & 0.69 & 0.10 & 0.54 & 0.67 & 0.93 & 0.65 \\\\\n",
      "rough-stochvol.nig_range & 28.69 & 8.26 & 15.25 & 27.78 & 46.99 & 24.94 \\\\\n",
      "rough-stochvol.nig_nu & 0.24 & 0.09 & 0.09 & 0.23 & 0.45 & 0.21 \\\\\n",
      "rough-stochvolln_std.dev & 1.17 & 0.06 & 1.04 & 1.18 & 1.29 & 1.19 \\\\\n",
      "rough-stochvolln_range & 9.79 & 1.07 & 7.74 & 9.81 & 11.87 & 10.16 \\\\\n",
      "rough-stochvolln_nu & 0.48 & 0.03 & 0.42 & 0.48 & 0.53 & 0.48 \\\\\n",
      "\\end{tabular}\n",
      "\n"
     ]
    }
   ],
   "source": [
    "\n",
    "df = pd.concat(records).style.format(decimal='.', precision=2)\n",
    "print(df.to_latex())"
   ]
  },
  {
   "cell_type": "markdown",
   "metadata": {},
   "source": [
    "#### inspect the stability"
   ]
  },
  {
   "cell_type": "code",
   "execution_count": 15,
   "metadata": {},
   "outputs": [
    {
     "data": {
      "text/plain": [
       "{'df':               mean        sd  0.025quant  0.5quant  0.975quant     mode\n",
       " e1std.dev  1.57530  0.075387     1.43159   1.57361     1.72608  1.57474\n",
       " e1range    6.61859  0.334054     5.95027   6.62636     7.25480  6.65180\n",
       " e1nu       1.59052  0.030999     1.53560   1.58826     1.65564  1.57842,\n",
       " 'likelihood': array([6608.076]),\n",
       " 'family': {'model': 'rough', 'Y': 'stochvol'},\n",
       " 'startValue': {'prior.std.dev.nominal': 0.3369386751908445,\n",
       "  'prior.range.nominal': 212.7656998098828,\n",
       "  'rspde.order': 4},\n",
       " 'id': '7'}"
      ]
     },
     "execution_count": 15,
     "metadata": {},
     "output_type": "execute_result"
    }
   ],
   "source": [
    "models[\"rough_stochvol\"][1]"
   ]
  },
  {
   "cell_type": "code",
   "execution_count": 46,
   "metadata": {},
   "outputs": [
    {
     "data": {
      "text/plain": [
       "dict_keys(['rs_stochvol', 'rough_stochvolln', 'rough_stochvol.t', 'rough_stochvol', 'rough_stochvol.nig'])"
      ]
     },
     "execution_count": 46,
     "metadata": {},
     "output_type": "execute_result"
    }
   ],
   "source": [
    "models.keys()"
   ]
  },
  {
   "cell_type": "code",
   "execution_count": 67,
   "metadata": {},
   "outputs": [],
   "source": [
    "model_key=\"rough_stochvolln\""
   ]
  },
  {
   "cell_type": "code",
   "execution_count": 68,
   "metadata": {},
   "outputs": [
    {
     "name": "stdout",
     "output_type": "stream",
     "text": [
      "\\begin{tabular}{lrrrr}\n",
      "\\toprule\n",
      " & std.dev & range & nu & likelihood \\\\\n",
      "\\midrule\n",
      "(6/31.1054/0.4286) & 1.172 & 9.791 & 0.476 & 6601.487 \\\\\n",
      "(4/61.0968/0.6265) & 1.438 & 6.748 & 1.378 & 6598.949 \\\\\n",
      "(2/134.2289/0.2284) & 1.190 & 11.939 & 0.653 & 6596.105 \\\\\n",
      "(2/285.0453/0.4559) & 1.309 & 8.525 & 1.466 & 6590.954 \\\\\n",
      "(3/31.9357/0.6857) & 1.448 & 9.994 & 1.166 & 6590.834 \\\\\n",
      "(2/12.0289/0.5494) & 1.692 & 11.149 & 1.152 & 6587.893 \\\\\n",
      "(3/65.6989/1.6841) & 1.731 & 7.964 & 0.927 & 6587.862 \\\\\n",
      "(5/276.6435/0.1497) & 1.254 & 3.216 & 2.000 & 6563.986 \\\\\n",
      "(5/134.8579/1.4616) & 1.253 & 52.966 & 1.015 & 6547.063 \\\\\n",
      "(2/203.1846/0.3531) & 1.156 & 35.657 & 1.991 & 6545.283 \\\\\n",
      "(5/68.9412/0.4789) & 1.269 & 56.640 & 1.246 & 6535.706 \\\\\n",
      "(3/123.5039/0.7484) & 1.200 & 63.546 & 1.182 & 6530.076 \\\\\n",
      "(6/138.1205/0.5539) & 1.482 & 80.168 & 1.299 & 6520.457 \\\\\n",
      "(6/121.2197/0.4731) & 1.286 & 88.706 & 0.833 & 6520.381 \\\\\n",
      "(6/152.0343/0.5363) & 1.422 & 95.664 & 1.153 & 6512.806 \\\\\n",
      "(2/179.8547/0.5478) & 1.773 & 114.373 & 1.056 & 6502.926 \\\\\n",
      "(2/228.5356/0.6444) & 1.667 & 132.025 & 1.192 & 6495.471 \\\\\n",
      "(2/159.8253/0.4323) & 1.811 & 130.363 & 1.306 & 6493.851 \\\\\n",
      "(3/262.0714/0.8076) & 1.575 & 140.159 & 1.158 & 6493.352 \\\\\n",
      "(6/277.9456/0.4873) & 2.462 & 173.620 & 1.343 & 6484.638 \\\\\n",
      "(2/235.8584/0.5270) & 2.155 & 198.086 & 1.178 & 6482.109 \\\\\n",
      "(3/281.5466/0.3834) & 1.682 & 160.488 & 1.232 & 6481.162 \\\\\n",
      "(5/261.1183/0.7099) & 3.734 & 226.827 & 1.235 & 6443.725 \\\\\n",
      "(5/224.2995/0.7594) & 1.472 & 5.003 & 1.999 & -69296421112.954 \\\\\n",
      "(6/203.6112/0.6973) & 1.468 & 9.580 & 1.373 & -169533036251.481 \\\\\n",
      "(6/291.7389/0.8138) & 1.192 & 27.666 & 1.731 & -343716718098.198 \\\\\n",
      "(5/103.6639/0.9239) & 1.489 & 8.164 & 1.734 & -431081549399.282 \\\\\n",
      "(6/17.5047/0.4737) & 1.345 & 12.328 & 0.840 & -767759807160.736 \\\\\n",
      "(3/51.1205/0.3280) & 1.307 & 16.549 & 1.656 & -802150190795.047 \\\\\n",
      "(3/77.0851/0.6147) & 1.239 & 56.024 & 1.151 & -10092063294938.361 \\\\\n",
      "\\bottomrule\n",
      "\\end{tabular}\n",
      "\n"
     ]
    }
   ],
   "source": [
    "\n",
    "\n",
    "all=[(x[\"startValue\"],x[\"df\"][\"mean\"],x[\"likelihood\"]) for x in models[model_key]]\n",
    "df=pd.concat([x[1] for x in all],axis=1)\n",
    "\n",
    "df.columns=[f\"\"\"({x[0][\"rspde.order\"]}/{x[0][\"prior.range.nominal\"]:.4f}/{x[0][\"prior.std.dev.nominal\"]:.4f})\"\"\" for x in all]\n",
    "df=df.T\n",
    "df.columns=[x[2:] for x in df.columns]\n",
    "df[\"likelihood\"]=np.array([x[2] for x in all])\n",
    "\n",
    "df=df.sort_values(\"likelihood\",ascending=False)\n",
    "print(df.to_latex(float_format=\"%.3f\"))"
   ]
  },
  {
   "cell_type": "code",
   "execution_count": null,
   "metadata": {},
   "outputs": [],
   "source": []
  }
 ],
 "metadata": {
  "kernelspec": {
   "display_name": "py310",
   "language": "python",
   "name": "python3"
  },
  "language_info": {
   "codemirror_mode": {
    "name": "ipython",
    "version": 3
   },
   "file_extension": ".py",
   "mimetype": "text/x-python",
   "name": "python",
   "nbconvert_exporter": "python",
   "pygments_lexer": "ipython3",
   "version": "3.10.14"
  }
 },
 "nbformat": 4,
 "nbformat_minor": 2
}
