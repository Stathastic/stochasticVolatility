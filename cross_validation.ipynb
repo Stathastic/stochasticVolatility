{
 "cells": [
  {
   "cell_type": "code",
   "execution_count": 1,
   "metadata": {
    "vscode": {
     "languageId": "r"
    }
   },
   "outputs": [
    {
     "name": "stderr",
     "output_type": "stream",
     "text": [
      "Loading required package: Matrix\n",
      "\n"
     ]
    },
    {
     "name": "stderr",
     "output_type": "stream",
     "text": [
      "Loading required package: sp\n",
      "\n",
      "This is INLA_24.04.01 built 2024-04-01 19:43:22 UTC.\n",
      " - See www.r-inla.org/contact-us for how to get help.\n",
      " - List available models/likelihoods/etc with inla.list.models()\n",
      " - Use inla.doc(<NAME>) to access documentation\n",
      "\n",
      "This is rSPDE 2.3.3.9000\n",
      "- See https://davidbolin.github.io/rSPDE for vignettes and manuals.\n",
      "\n",
      "\u001b[1mRows: \u001b[22m\u001b[34m2372\u001b[39m \u001b[1mColumns: \u001b[22m\u001b[34m10\u001b[39m\n",
      "\u001b[36m──\u001b[39m \u001b[1mColumn specification\u001b[22m \u001b[36m────────────────────────────────────────────────────────\u001b[39m\n",
      "\u001b[1mDelimiter:\u001b[22m \",\"\n",
      "\u001b[32mdbl\u001b[39m  (9): Open, High, Low, Close, Volume, Dividends, Stock Splits, vol10, vol30\n",
      "\u001b[34mdate\u001b[39m (1): Date\n",
      "\n",
      "\u001b[36mℹ\u001b[39m Use `spec()` to retrieve the full column specification for this data.\n",
      "\u001b[36mℹ\u001b[39m Specify the column types or set `show_col_types = FALSE` to quiet this message.\n"
     ]
    }
   ],
   "source": [
    "library(INLA)\n",
    "library(rSPDE)\n",
    "library(readr)\n",
    "library(fmesher)\n",
    "library(inlabru)\n",
    "data_ori <- as.data.frame(read_csv(\"tmp/1180_vol.csv\"))\n",
    "logpt<-log(data_ori$Close)\n",
    "logreturn <-logpt[2:length(logpt)]-logpt[1:(length(logpt)-1)]\n",
    "date <- data_ori$Date[1:(length(data_ori$Date)-1)]\n",
    "   \n",
    "date_timeindex<-as.numeric(as.POSIXct(date)) \n",
    "date_timeindex <- (date_timeindex - min(date_timeindex))/86400\n",
    "mesh <- fm_mesh_1d(date_timeindex)\n",
    "data = list(logreturn = logreturn, times = date_timeindex)\n",
    "\n",
    "\n",
    "\n"
   ]
  },
  {
   "cell_type": "code",
   "execution_count": 3,
   "metadata": {
    "vscode": {
     "languageId": "r"
    }
   },
   "outputs": [],
   "source": [
    "build_index <- function(data_size, window) {\n",
    "    train <- test <- list()\n",
    "\n",
    "    k = 1\n",
    "    for (i in seq(from = window, to = data_size - window, by = window)) {\n",
    "        train[[k]] <- 1:i\n",
    "        test[[k]] <- (i + 1):(i + window)\n",
    "        k = k + 1\n",
    "    }\n",
    "    index = list(train = train, test = test)\n",
    "    return(index)\n",
    "}\n"
   ]
  },
  {
   "cell_type": "code",
   "execution_count": 5,
   "metadata": {
    "vscode": {
     "languageId": "r"
    }
   },
   "outputs": [],
   "source": [
    "exp_id=20\n",
    "library(glue)\n",
    "config_id<-29\n",
    "run_id=0\n",
    "fit_path=glue(\"/home/jianj0c/project/STP/notebook_SPDE/stochasticVolatility/Log/{exp_id}.fitting/fits\")\n",
    "results<-readRDS(file.path(fit_path, glue(\"fit_{config_id}.rds\")))\n",
    "rough_stochvol<-results$fit[[run_id+1]]$fit\n",
    "\n",
    "config_id<-65\n",
    "run_id=0\n",
    "fit_path=glue(\"/home/jianj0c/project/STP/notebook_SPDE/stochasticVolatility/Log/{exp_id}.fitting/fits\")\n",
    "results<-readRDS(file.path(fit_path, glue(\"fit_{config_id}.rds\")))\n",
    "rough_stochvol.t<-results$fit[[run_id+1]]$fit\n",
    "\n",
    "config_id<-45\n",
    "run_id=0\n",
    "fit_path=glue(\"/home/jianj0c/project/STP/notebook_SPDE/stochasticVolatility/Log/{exp_id}.fitting/fits\")\n",
    "results<-readRDS(file.path(fit_path, glue(\"fit_{config_id}.rds\")))\n",
    "rough_stochvol.nig<-results$fit[[run_id+1]]$fit\n",
    "\n",
    "\n",
    "\n",
    "config_id<-110\n",
    "run_id=0\n",
    "fit_path=glue(\"/home/jianj0c/project/STP/notebook_SPDE/stochasticVolatility/Log/{exp_id}.fitting/fits\")\n",
    "results<-readRDS(file.path(fit_path, glue(\"fit_{config_id}.rds\")))\n",
    "rough_stochvolln<-results$fit[[run_id+1]]$fit\n",
    "\n",
    "config_id<-150\n",
    "run_id=0\n",
    "fit_path=glue(\"/home/jianj0c/project/STP/notebook_SPDE/stochasticVolatility/Log/{exp_id}.fitting/fits\")\n",
    "results<-readRDS(file.path(fit_path, glue(\"fit_{config_id}.rds\")))\n",
    "rs_stochvol<-results$fit[[run_id+1]]$fit"
   ]
  },
  {
   "cell_type": "code",
   "execution_count": 12,
   "metadata": {
    "vscode": {
     "languageId": "r"
    }
   },
   "outputs": [],
   "source": [
    "models=list(rough_stochvol,rough_stochvol.t,rough_stochvol.nig,rough_stochvolln,rs_stochvol)"
   ]
  },
  {
   "cell_type": "code",
   "execution_count": 48,
   "metadata": {
    "vscode": {
     "languageId": "r"
    }
   },
   "outputs": [],
   "source": [
    "res2 <- cross_validation(models,train_test_indexes = build_index(length(date_timeindex), 22))"
   ]
  },
  {
   "cell_type": "code",
   "execution_count": 46,
   "metadata": {
    "vscode": {
     "languageId": "r"
    }
   },
   "outputs": [],
   "source": [
    "res2=as.data.frame(lapply(res2,as.numeric))"
   ]
  },
  {
   "cell_type": "code",
   "execution_count": 47,
   "metadata": {
    "vscode": {
     "languageId": "r"
    }
   },
   "outputs": [
    {
     "data": {
      "text/html": [
       "<table class=\"dataframe\">\n",
       "<caption>A data.frame: 6 × 5</caption>\n",
       "<thead>\n",
       "\t<tr><th scope=col>Model</th><th scope=col>dss</th><th scope=col>mse</th><th scope=col>crps</th><th scope=col>scrps</th></tr>\n",
       "\t<tr><th scope=col>&lt;dbl&gt;</th><th scope=col>&lt;dbl&gt;</th><th scope=col>&lt;dbl&gt;</th><th scope=col>&lt;dbl&gt;</th><th scope=col>&lt;dbl&gt;</th></tr>\n",
       "</thead>\n",
       "<tbody>\n",
       "\t<tr><td>NA</td><td>-7.20750016</td><td>0.0002668893</td><td>-0.008511069</td><td>-1.0344050</td></tr>\n",
       "\t<tr><td>NA</td><td>-7.06377000</td><td>0.0002673929</td><td>-0.008569718</td><td>-1.0186201</td></tr>\n",
       "\t<tr><td>NA</td><td>-7.06952248</td><td>0.0002674422</td><td>-0.008569490</td><td>-1.0222109</td></tr>\n",
       "\t<tr><td>NA</td><td>-0.01842509</td><td>0.0007006237</td><td>-0.240798081</td><td> 0.7711322</td></tr>\n",
       "\t<tr><td>NA</td><td>-7.19576062</td><td>0.0002675747</td><td>-0.008510083</td><td>-1.0341094</td></tr>\n",
       "\t<tr><td>NA</td><td>         NA</td><td>          NA</td><td>          NA</td><td>        NA</td></tr>\n",
       "</tbody>\n",
       "</table>\n"
      ],
      "text/latex": [
       "A data.frame: 6 × 5\n",
       "\\begin{tabular}{lllll}\n",
       " Model & dss & mse & crps & scrps\\\\\n",
       " <dbl> & <dbl> & <dbl> & <dbl> & <dbl>\\\\\n",
       "\\hline\n",
       "\t NA & -7.20750016 & 0.0002668893 & -0.008511069 & -1.0344050\\\\\n",
       "\t NA & -7.06377000 & 0.0002673929 & -0.008569718 & -1.0186201\\\\\n",
       "\t NA & -7.06952248 & 0.0002674422 & -0.008569490 & -1.0222109\\\\\n",
       "\t NA & -0.01842509 & 0.0007006237 & -0.240798081 &  0.7711322\\\\\n",
       "\t NA & -7.19576062 & 0.0002675747 & -0.008510083 & -1.0341094\\\\\n",
       "\t NA &          NA &           NA &           NA &         NA\\\\\n",
       "\\end{tabular}\n"
      ],
      "text/markdown": [
       "\n",
       "A data.frame: 6 × 5\n",
       "\n",
       "| Model &lt;dbl&gt; | dss &lt;dbl&gt; | mse &lt;dbl&gt; | crps &lt;dbl&gt; | scrps &lt;dbl&gt; |\n",
       "|---|---|---|---|---|\n",
       "| NA | -7.20750016 | 0.0002668893 | -0.008511069 | -1.0344050 |\n",
       "| NA | -7.06377000 | 0.0002673929 | -0.008569718 | -1.0186201 |\n",
       "| NA | -7.06952248 | 0.0002674422 | -0.008569490 | -1.0222109 |\n",
       "| NA | -0.01842509 | 0.0007006237 | -0.240798081 |  0.7711322 |\n",
       "| NA | -7.19576062 | 0.0002675747 | -0.008510083 | -1.0341094 |\n",
       "| NA |          NA |           NA |           NA |         NA |\n",
       "\n"
      ],
      "text/plain": [
       "  Model dss         mse          crps         scrps     \n",
       "1 NA    -7.20750016 0.0002668893 -0.008511069 -1.0344050\n",
       "2 NA    -7.06377000 0.0002673929 -0.008569718 -1.0186201\n",
       "3 NA    -7.06952248 0.0002674422 -0.008569490 -1.0222109\n",
       "4 NA    -0.01842509 0.0007006237 -0.240798081  0.7711322\n",
       "5 NA    -7.19576062 0.0002675747 -0.008510083 -1.0341094\n",
       "6 NA             NA           NA           NA         NA"
      ]
     },
     "metadata": {},
     "output_type": "display_data"
    }
   ],
   "source": [
    "res2"
   ]
  },
  {
   "cell_type": "code",
   "execution_count": 16,
   "metadata": {
    "vscode": {
     "languageId": "r"
    }
   },
   "outputs": [
    {
     "name": "stderr",
     "output_type": "stream",
     "text": [
      "Installing package into ‘/home/jianj0c/R/x86_64-pc-linux-gnu-library/4.3’\n",
      "(as ‘lib’ is unspecified)\n",
      "\n"
     ]
    }
   ],
   "source": [
    "install.packages(\"xtable\")\n",
    "library(xtable)\n"
   ]
  },
  {
   "cell_type": "code",
   "execution_count": 36,
   "metadata": {
    "vscode": {
     "languageId": "r"
    }
   },
   "outputs": [
    {
     "data": {
      "text/html": [
       "<table class=\"dataframe\">\n",
       "<caption>A xtable: 6 × 5</caption>\n",
       "<thead>\n",
       "\t<tr><th></th><th scope=col>Model</th><th scope=col>dss</th><th scope=col>mse</th><th scope=col>crps</th><th scope=col>scrps</th></tr>\n",
       "\t<tr><th></th><th scope=col>&lt;chr&gt;</th><th scope=col>&lt;chr&gt;</th><th scope=col>&lt;chr&gt;</th><th scope=col>&lt;chr&gt;</th><th scope=col>&lt;chr&gt;</th></tr>\n",
       "</thead>\n",
       "<tbody>\n",
       "\t<tr><th scope=row>1</th><td>Model 1</td><td>-7.20750016342735  </td><td>0.000266889342456855</td><td>-0.00851106902919709</td><td>-1.0344049941245 </td></tr>\n",
       "\t<tr><th scope=row>2</th><td>Model 2</td><td>-7.06376999814561  </td><td>0.00026739290758667 </td><td>-0.00856971761657976</td><td>-1.0186200721771 </td></tr>\n",
       "\t<tr><th scope=row>3</th><td>Model 3</td><td>-7.06952248439858  </td><td>0.000267442214123041</td><td>-0.00856949019251315</td><td>-1.02221090756634</td></tr>\n",
       "\t<tr><th scope=row>4</th><td>Model 4</td><td>-0.0184250850052743</td><td>0.000700623746038587</td><td>-0.240798081333949  </td><td>0.771132197066555</td></tr>\n",
       "\t<tr><th scope=row>5</th><td>Model 5</td><td>-7.19576062231673  </td><td>0.000267574690181063</td><td>-0.00851008299119441</td><td>-1.03410944448769</td></tr>\n",
       "\t<tr><th scope=row></th><td>Best   </td><td>Model 1            </td><td>Model 1             </td><td>Model 4             </td><td>Model 1          </td></tr>\n",
       "</tbody>\n",
       "</table>\n"
      ],
      "text/latex": [
       "A xtable: 6 × 5\n",
       "\\begin{tabular}{r|lllll}\n",
       "  & Model & dss & mse & crps & scrps\\\\\n",
       "  & <chr> & <chr> & <chr> & <chr> & <chr>\\\\\n",
       "\\hline\n",
       "\t1 & Model 1 & -7.20750016342735   & 0.000266889342456855 & -0.00851106902919709 & -1.0344049941245 \\\\\n",
       "\t2 & Model 2 & -7.06376999814561   & 0.00026739290758667  & -0.00856971761657976 & -1.0186200721771 \\\\\n",
       "\t3 & Model 3 & -7.06952248439858   & 0.000267442214123041 & -0.00856949019251315 & -1.02221090756634\\\\\n",
       "\t4 & Model 4 & -0.0184250850052743 & 0.000700623746038587 & -0.240798081333949   & 0.771132197066555\\\\\n",
       "\t5 & Model 5 & -7.19576062231673   & 0.000267574690181063 & -0.00851008299119441 & -1.03410944448769\\\\\n",
       "\t & Best    & Model 1             & Model 1              & Model 4              & Model 1          \\\\\n",
       "\\end{tabular}\n"
      ],
      "text/markdown": [
       "\n",
       "A xtable: 6 × 5\n",
       "\n",
       "| <!--/--> | Model &lt;chr&gt; | dss &lt;chr&gt; | mse &lt;chr&gt; | crps &lt;chr&gt; | scrps &lt;chr&gt; |\n",
       "|---|---|---|---|---|---|\n",
       "| 1 | Model 1 | -7.20750016342735   | 0.000266889342456855 | -0.00851106902919709 | -1.0344049941245  |\n",
       "| 2 | Model 2 | -7.06376999814561   | 0.00026739290758667  | -0.00856971761657976 | -1.0186200721771  |\n",
       "| 3 | Model 3 | -7.06952248439858   | 0.000267442214123041 | -0.00856949019251315 | -1.02221090756634 |\n",
       "| 4 | Model 4 | -0.0184250850052743 | 0.000700623746038587 | -0.240798081333949   | 0.771132197066555 |\n",
       "| 5 | Model 5 | -7.19576062231673   | 0.000267574690181063 | -0.00851008299119441 | -1.03410944448769 |\n",
       "| <!----> | Best    | Model 1             | Model 1              | Model 4              | Model 1           |\n",
       "\n"
      ],
      "text/plain": [
       "  Model   dss                 mse                  crps                \n",
       "1 Model 1 -7.20750016342735   0.000266889342456855 -0.00851106902919709\n",
       "2 Model 2 -7.06376999814561   0.00026739290758667  -0.00856971761657976\n",
       "3 Model 3 -7.06952248439858   0.000267442214123041 -0.00856949019251315\n",
       "4 Model 4 -0.0184250850052743 0.000700623746038587 -0.240798081333949  \n",
       "5 Model 5 -7.19576062231673   0.000267574690181063 -0.00851008299119441\n",
       "  Best    Model 1             Model 1              Model 4             \n",
       "  scrps            \n",
       "1 -1.0344049941245 \n",
       "2 -1.0186200721771 \n",
       "3 -1.02221090756634\n",
       "4 0.771132197066555\n",
       "5 -1.03410944448769\n",
       "  Model 1          "
      ]
     },
     "metadata": {},
     "output_type": "display_data"
    }
   ],
   "source": [
    "xtable(res2, caption = \"Example Data Frame\", label = \"tab:example_df\",digits=c(0,0,3,3,3,3))"
   ]
  },
  {
   "cell_type": "code",
   "execution_count": 43,
   "metadata": {
    "vscode": {
     "languageId": "r"
    }
   },
   "outputs": [
    {
     "name": "stdout",
     "output_type": "stream",
     "text": [
      "% latex table generated in R 4.3.3 by xtable 1.8-4 package\n",
      "% Sun Apr 21 21:34:13 2024\n",
      "\\begin{table}[ht]\n",
      "\\centering\n",
      "\\begin{tabular}{rlllll}\n",
      "  \\hline\n",
      " & Model & dss & mse & crps & scrps \\\\ \n",
      "  \\hline\n",
      "1 & Model 1 & -7.20750016342735 & 0.000266889342456855 & -0.00851106902919709 & -1.0344049941245 \\\\ \n",
      "  2 & Model 2 & -7.06376999814561 & 0.00026739290758667 & -0.00856971761657976 & -1.0186200721771 \\\\ \n",
      "  3 & Model 3 & -7.06952248439858 & 0.000267442214123041 & -0.00856949019251315 & -1.02221090756634 \\\\ \n",
      "  4 & Model 4 & -0.0184250850052743 & 0.000700623746038587 & -0.240798081333949 & 0.771132197066555 \\\\ \n",
      "  5 & Model 5 & -7.19576062231673 & 0.000267574690181063 & -0.00851008299119441 & -1.03410944448769 \\\\ \n",
      "   & Best & Model 1 & Model 1 & Model 4 & Model 1 \\\\ \n",
      "   \\hline\n",
      "\\end{tabular}\n",
      "\\caption{Example Data Frame} \n",
      "\\label{tab:example_df}\n",
      "\\end{table}\n"
     ]
    }
   ],
   "source": [
    "# Convert to LaTeX table\n",
    "latex_table <- xtable(res2, caption = \"Example Data Frame\", label = \"tab:example_df\",igits=3)\n",
    "\n",
    "# Print the LaTeX table\n",
    "print.xtable(latex_table, float.placement = \"H\")\n",
    "\n"
   ]
  },
  {
   "cell_type": "code",
   "execution_count": null,
   "metadata": {
    "vscode": {
     "languageId": "r"
    }
   },
   "outputs": [],
   "source": []
  }
 ],
 "metadata": {
  "kernelspec": {
   "display_name": "R",
   "language": "R",
   "name": "ir"
  },
  "language_info": {
   "codemirror_mode": "r",
   "file_extension": ".r",
   "mimetype": "text/x-r-source",
   "name": "R",
   "pygments_lexer": "r",
   "version": "4.3.3"
  }
 },
 "nbformat": 4,
 "nbformat_minor": 2
}
